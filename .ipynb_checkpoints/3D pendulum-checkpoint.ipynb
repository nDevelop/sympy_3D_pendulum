{
 "cells": [
  {
   "cell_type": "markdown",
   "metadata": {},
   "source": [
    "# Simplified System"
   ]
  },
  {
   "cell_type": "code",
   "execution_count": 2,
   "metadata": {
    "collapsed": true
   },
   "outputs": [],
   "source": [
    "from __future__ import print_function, division\n",
    "from sympy import symbols, simplify, Matrix\n",
    "from sympy.physics.mechanics import dynamicsymbols, ReferenceFrame, Point\n",
    "from sympy.physics.mechanics import inertia, RigidBody\n",
    "from sympy import trigsimp\n",
    "from sympy.physics.mechanics import KanesMethod\n",
    "from sympy.physics.vector import init_vprinting\n",
    "import math\n",
    "init_vprinting(use_latex='mathjax', pretty_print=False)"
   ]
  },
  {
   "cell_type": "markdown",
   "metadata": {},
   "source": [
    "Here I define the referencial frames for the simplified system. Basically we have the inertial frame (earth fixed reference frame), the anchor frame (for the fixed poin in the pendulum problem, and the mass frame which is centered in the mass of the pendulum)."
   ]
  },
  {
   "cell_type": "code",
   "execution_count": 3,
   "metadata": {
    "collapsed": true
   },
   "outputs": [],
   "source": [
    "inertial_frame = ReferenceFrame('I')\n",
    "anchor_frame = ReferenceFrame('A')\n",
    "mass_frame = ReferenceFrame('M')"
   ]
  },
  {
   "cell_type": "markdown",
   "metadata": {},
   "source": [
    "Stating the time variables needed to define the transformations between reference frames. These are the position of the mass (x, y, z) and its attitude (phi, theta, psi):"
   ]
  },
  {
   "cell_type": "code",
   "execution_count": 4,
   "metadata": {
    "collapsed": false
   },
   "outputs": [
    {
     "data": {
      "text/latex": [
       "$$\\phi_{m}$$"
      ],
      "text/plain": [
       "phi_m"
      ]
     },
     "execution_count": 4,
     "metadata": {},
     "output_type": "execute_result"
    }
   ],
   "source": [
    "x_m, y_m, z_m, phi_m, theta_m, psi_m = dynamicsymbols('x_m, y_m, z_m, phi_m, theta_m, psi_m')\n",
    "phi_m"
   ]
  },
  {
   "cell_type": "code",
   "execution_count": 5,
   "metadata": {
    "collapsed": false
   },
   "outputs": [
    {
     "data": {
      "text/latex": [
       "$$\\left[\\begin{matrix}\\operatorname{cos}\\left(\\psi_{m}\\right) \\operatorname{cos}\\left(\\theta_{m}\\right) & - \\operatorname{sin}\\left(\\psi_{m}\\right) \\operatorname{cos}\\left(\\theta_{m}\\right) & \\operatorname{sin}\\left(\\theta_{m}\\right)\\\\\\operatorname{sin}\\left(\\phi_{m}\\right) \\operatorname{sin}\\left(\\theta_{m}\\right) \\operatorname{cos}\\left(\\psi_{m}\\right) + \\operatorname{sin}\\left(\\psi_{m}\\right) \\operatorname{cos}\\left(\\phi_{m}\\right) & - \\operatorname{sin}\\left(\\phi_{m}\\right) \\operatorname{sin}\\left(\\psi_{m}\\right) \\operatorname{sin}\\left(\\theta_{m}\\right) + \\operatorname{cos}\\left(\\phi_{m}\\right) \\operatorname{cos}\\left(\\psi_{m}\\right) & - \\operatorname{sin}\\left(\\phi_{m}\\right) \\operatorname{cos}\\left(\\theta_{m}\\right)\\\\\\operatorname{sin}\\left(\\phi_{m}\\right) \\operatorname{sin}\\left(\\psi_{m}\\right) - \\operatorname{sin}\\left(\\theta_{m}\\right) \\operatorname{cos}\\left(\\phi_{m}\\right) \\operatorname{cos}\\left(\\psi_{m}\\right) & \\operatorname{sin}\\left(\\phi_{m}\\right) \\operatorname{cos}\\left(\\psi_{m}\\right) + \\operatorname{sin}\\left(\\psi_{m}\\right) \\operatorname{sin}\\left(\\theta_{m}\\right) \\operatorname{cos}\\left(\\phi_{m}\\right) & \\operatorname{cos}\\left(\\phi_{m}\\right) \\operatorname{cos}\\left(\\theta_{m}\\right)\\end{matrix}\\right]$$"
      ],
      "text/plain": [
       "Matrix([\n",
       "[                                   cos(psi_m)*cos(theta_m),                                    -sin(psi_m)*cos(theta_m),             sin(theta_m)],\n",
       "[sin(phi_m)*sin(theta_m)*cos(psi_m) + sin(psi_m)*cos(phi_m), -sin(phi_m)*sin(psi_m)*sin(theta_m) + cos(phi_m)*cos(psi_m), -sin(phi_m)*cos(theta_m)],\n",
       "[sin(phi_m)*sin(psi_m) - sin(theta_m)*cos(phi_m)*cos(psi_m),  sin(phi_m)*cos(psi_m) + sin(psi_m)*sin(theta_m)*cos(phi_m),  cos(phi_m)*cos(theta_m)]])"
      ]
     },
     "execution_count": 5,
     "metadata": {},
     "output_type": "execute_result"
    }
   ],
   "source": [
    "anchor_frame.orient(inertial_frame, 'Body', [0,0,0], '123')\n",
    "mass_frame.orient(inertial_frame , 'Body', [phi_m, theta_m, psi_m], 'XYZ')\n",
    "inertial_frame.dcm(mass_frame)"
   ]
  },
  {
   "cell_type": "markdown",
   "metadata": {
    "collapsed": true
   },
   "source": [
    "Now we define and set of points in the system:"
   ]
  },
  {
   "cell_type": "code",
   "execution_count": 6,
   "metadata": {
    "collapsed": true
   },
   "outputs": [],
   "source": [
    "zero_map = Point('Zero') #Considered fixed in the inertial frame\n",
    "mass_cm = Point('M_cm')\n",
    "anchor_cm = Point('A_cm')\n",
    "\n",
    "cable_length = symbols('l_cable') #length of the cable - used as a distance constraint for the two bodies\n",
    "\n",
    "mass_cm.set_pos(zero_map, x_m*inertial_frame.x + y_m*inertial_frame.y + z_m*inertial_frame.z)\n",
    "anchor_cm.set_pos(zero_map, 0*inertial_frame.x + 0*inertial_frame.y + 0*inertial_frame.z)"
   ]
  },
  {
   "cell_type": "markdown",
   "metadata": {
    "collapsed": true
   },
   "source": [
    "## Kinematic equations:"
   ]
  },
  {
   "cell_type": "code",
   "execution_count": 7,
   "metadata": {
    "collapsed": false
   },
   "outputs": [],
   "source": [
    "v_xm, v_ym, v_zm, omega_m1, omega_m2, omega_m3 = dynamicsymbols('v_xm, v_ym, v_zm, omega_m1, omega_m2, omega_m3')"
   ]
  },
  {
   "cell_type": "code",
   "execution_count": 8,
   "metadata": {
    "collapsed": false
   },
   "outputs": [
    {
     "data": {
      "text/latex": [
       "$$\\left [ v_{xm} - \\dot{x}_{m}, \\quad v_{ym} - \\dot{y}_{m}, \\quad v_{zm} - \\dot{z}_{m}, \\quad \\omega_{m1} - \\dot{\\phi}_{m}, \\quad \\omega_{m2} - \\dot{\\theta}_{m}, \\quad \\omega_{m3} - \\dot{\\psi}_{m}\\right ]$$"
      ],
      "text/plain": [
       "[v_xm - x_m', v_ym - y_m', v_zm - z_m', omega_m1 - phi_m', omega_m2 - theta_m', omega_m3 - psi_m']"
      ]
     },
     "execution_count": 8,
     "metadata": {},
     "output_type": "execute_result"
    }
   ],
   "source": [
    "kinematical_differential_equations = [v_xm - x_m.diff(),\n",
    "                                      v_ym - y_m.diff(),\n",
    "                                      v_zm - z_m.diff(),\n",
    "                                      omega_m1 - phi_m.diff(),\n",
    "                                      omega_m2 - theta_m.diff(),\n",
    "                                      omega_m3 - psi_m.diff()]\n",
    "kinematical_differential_equations"
   ]
  },
  {
   "cell_type": "markdown",
   "metadata": {},
   "source": [
    "Now I set the angular and linear velocities for the frames using the previously created dynamicsymbols:"
   ]
  },
  {
   "cell_type": "code",
   "execution_count": 11,
   "metadata": {
    "collapsed": false
   },
   "outputs": [],
   "source": [
    "mass_frame.set_ang_vel(inertial_frame, omega_m1*inertial_frame.x + omega_m2*inertial_frame.y + omega_m3*inertial_frame.z)\n",
    "anchor_frame.set_ang_vel(inertial_frame, 0*inertial_frame.x + 0*inertial_frame.y + 0*inertial_frame.z)"
   ]
  },
  {
   "cell_type": "code",
   "execution_count": 12,
   "metadata": {
    "collapsed": false
   },
   "outputs": [
    {
     "data": {
      "text/latex": [
       "$$0$$"
      ],
      "text/plain": [
       "0"
      ]
     },
     "execution_count": 12,
     "metadata": {},
     "output_type": "execute_result"
    }
   ],
   "source": [
    "anchor_cm.set_vel(inertial_frame, 0*inertial_frame.x + 0*inertial_frame.y + 0*inertial_frame.z)\n",
    "anchor_cm.vel(inertial_frame)"
   ]
  },
  {
   "cell_type": "code",
   "execution_count": 13,
   "metadata": {
    "collapsed": false
   },
   "outputs": [
    {
     "data": {
      "text/latex": [
       "$$v_{xm}\\mathbf{\\hat{i}_x} + v_{ym}\\mathbf{\\hat{i}_y} + v_{zm}\\mathbf{\\hat{i}_z}$$"
      ],
      "text/plain": [
       "v_xm*I.x + v_ym*I.y + v_zm*I.z"
      ]
     },
     "execution_count": 13,
     "metadata": {},
     "output_type": "execute_result"
    }
   ],
   "source": [
    "mass_cm.set_vel(inertial_frame, v_xm*inertial_frame.x + v_ym*inertial_frame.y + v_zm*inertial_frame.z)\n",
    "mass_cm.vel(inertial_frame)"
   ]
  },
  {
   "cell_type": "markdown",
   "metadata": {},
   "source": [
    "The masses and the Inertias of the system are defined here (the naming was not the best):"
   ]
  },
  {
   "cell_type": "code",
   "execution_count": 17,
   "metadata": {
    "collapsed": true
   },
   "outputs": [],
   "source": [
    "mass_mass = symbols('m_m')"
   ]
  },
  {
   "cell_type": "code",
   "execution_count": 18,
   "metadata": {
    "collapsed": true
   },
   "outputs": [],
   "source": [
    "mass_inertia_x, mass_inertia_y, mass_inertia_z = symbols('I_Mx, I_My, I_Mz')"
   ]
  },
  {
   "cell_type": "code",
   "execution_count": 19,
   "metadata": {
    "collapsed": false
   },
   "outputs": [
    {
     "data": {
      "text/latex": [
       "$$\\left[\\begin{matrix}I_{Mx} & 0 & 0\\\\0 & I_{My} & 0\\\\0 & 0 & I_{Mz}\\end{matrix}\\right]$$"
      ],
      "text/plain": [
       "Matrix([\n",
       "[I_Mx,    0,    0],\n",
       "[   0, I_My,    0],\n",
       "[   0,    0, I_Mz]])"
      ]
     },
     "execution_count": 19,
     "metadata": {},
     "output_type": "execute_result"
    }
   ],
   "source": [
    "mass_inertia_dyadic = inertia(mass_frame, mass_inertia_x, mass_inertia_y, mass_inertia_z)\n",
    "mass_inertia_dyadic.to_matrix(mass_frame)"
   ]
  },
  {
   "cell_type": "code",
   "execution_count": 21,
   "metadata": {
    "collapsed": false
   },
   "outputs": [],
   "source": [
    "mass_central_inertia = (mass_inertia_dyadic, mass_cm)"
   ]
  },
  {
   "cell_type": "markdown",
   "metadata": {},
   "source": [
    "## Rigid Bodies"
   ]
  },
  {
   "cell_type": "code",
   "execution_count": 23,
   "metadata": {
    "collapsed": false
   },
   "outputs": [],
   "source": [
    "mass = RigidBody('Mass', mass_cm, mass_frame, mass_mass, mass_central_inertia)"
   ]
  },
  {
   "cell_type": "markdown",
   "metadata": {},
   "source": [
    "## Kinectics"
   ]
  },
  {
   "cell_type": "markdown",
   "metadata": {},
   "source": [
    "The forces and torques acting on the system are defined here:"
   ]
  },
  {
   "cell_type": "code",
   "execution_count": 24,
   "metadata": {
    "collapsed": false
   },
   "outputs": [],
   "source": [
    "g = symbols('g')\n",
    "\n",
    "#Gravitational forces\n",
    "mass_grav_force_vector = -mass_mass * g * inertial_frame.z\n",
    "\n",
    "mass_grav_force = (mass_cm, mass_grav_force_vector)\n",
    "\n",
    "#Motor forces\n",
    "mass_torque, mass_force = dynamicsymbols('T_m, F_m')\n",
    "mass_AppliedForce_vector = mass_force * mass_frame.x\n",
    "mass_AppliedTorque_vector = mass_torque * mass_frame.y\n",
    "\n",
    "mass_AppliedForce = (mass_frame, mass_AppliedForce_vector)\n",
    "mass_AppliedTorque = (mass_frame, mass_AppliedTorque_vector)"
   ]
  },
  {
   "cell_type": "markdown",
   "metadata": {},
   "source": [
    "# Equations of Motion"
   ]
  },
  {
   "cell_type": "code",
   "execution_count": 25,
   "metadata": {
    "collapsed": false
   },
   "outputs": [
    {
     "data": {
      "text/latex": [
       "$$\\left [ \\phi_{m}, \\quad \\theta_{m}, \\quad \\psi_{m}\\right ]$$"
      ],
      "text/plain": [
       "[phi_m, theta_m, psi_m]"
      ]
     },
     "execution_count": 25,
     "metadata": {},
     "output_type": "execute_result"
    }
   ],
   "source": [
    "coordinates = [phi_m, theta_m, psi_m]\n",
    "coordinates"
   ]
  },
  {
   "cell_type": "code",
   "execution_count": 26,
   "metadata": {
    "collapsed": false
   },
   "outputs": [
    {
     "data": {
      "text/latex": [
       "$$\\left [ v_{xm}, \\quad v_{ym}, \\quad v_{zm}, \\quad \\omega_{m1}, \\quad \\omega_{m2}, \\quad \\omega_{m3}\\right ]$$"
      ],
      "text/plain": [
       "[v_xm, v_ym, v_zm, omega_m1, omega_m2, omega_m3]"
      ]
     },
     "execution_count": 26,
     "metadata": {},
     "output_type": "execute_result"
    }
   ],
   "source": [
    "speeds = [v_xm, v_ym, v_zm, omega_m1, omega_m2, omega_m3]\n",
    "speeds"
   ]
  },
  {
   "cell_type": "code",
   "execution_count": 27,
   "metadata": {
    "collapsed": false
   },
   "outputs": [
    {
     "data": {
      "text/latex": [
       "$$\\left [ v_{xm} - \\dot{x}_{m}, \\quad v_{ym} - \\dot{y}_{m}, \\quad v_{zm} - \\dot{z}_{m}, \\quad \\omega_{m1} - \\dot{\\phi}_{m}, \\quad \\omega_{m2} - \\dot{\\theta}_{m}, \\quad \\omega_{m3} - \\dot{\\psi}_{m}\\right ]$$"
      ],
      "text/plain": [
       "[v_xm - x_m', v_ym - y_m', v_zm - z_m', omega_m1 - phi_m', omega_m2 - theta_m', omega_m3 - psi_m']"
      ]
     },
     "execution_count": 27,
     "metadata": {},
     "output_type": "execute_result"
    }
   ],
   "source": [
    "kinematical_differential_equations"
   ]
  },
  {
   "cell_type": "code",
   "execution_count": 14,
   "metadata": {
    "collapsed": false
   },
   "outputs": [
    {
     "data": {
      "text/latex": [
       "$$\\left[\\begin{matrix}\\frac{x_{m}}{\\sqrt{x^{2}_{m} + y^{2}_{m} + z^{2}_{m}}}\\\\\\frac{y_{m}}{\\sqrt{x^{2}_{m} + y^{2}_{m} + z^{2}_{m}}}\\\\\\frac{z_{m}}{\\sqrt{x^{2}_{m} + y^{2}_{m} + z^{2}_{m}}}\\end{matrix}\\right]$$"
      ],
      "text/plain": [
       "Matrix([\n",
       "[x_m/sqrt(x_m**2 + y_m**2 + z_m**2)],\n",
       "[y_m/sqrt(x_m**2 + y_m**2 + z_m**2)],\n",
       "[z_m/sqrt(x_m**2 + y_m**2 + z_m**2)]])"
      ]
     },
     "execution_count": 14,
     "metadata": {},
     "output_type": "execute_result"
    }
   ],
   "source": [
    "d = (mass_cm.pos_from(anchor_cm))\n",
    "u = d.normalize()\n",
    "matU = u.to_matrix(inertial_frame) #unit vector with the direction from the anchor point to the mass\n",
    "matU"
   ]
  },
  {
   "cell_type": "code",
   "execution_count": 30,
   "metadata": {
    "collapsed": false
   },
   "outputs": [
    {
     "data": {
      "text/latex": [
       "$$\\left [ - \\frac{l_{cable} x_{m}}{\\sqrt{x^{2}_{m} + y^{2}_{m} + z^{2}_{m}}} + x_{m}, \\quad - \\frac{l_{cable} y_{m}}{\\sqrt{x^{2}_{m} + y^{2}_{m} + z^{2}_{m}}} + y_{m}, \\quad - \\frac{l_{cable} z_{m}}{\\sqrt{x^{2}_{m} + y^{2}_{m} + z^{2}_{m}}} + z_{m}\\right ]$$"
      ],
      "text/plain": [
       "[-l_cable*x_m/sqrt(x_m**2 + y_m**2 + z_m**2) + x_m, -l_cable*y_m/sqrt(x_m**2 + y_m**2 + z_m**2) + y_m, -l_cable*z_m/sqrt(x_m**2 + y_m**2 + z_m**2) + z_m]"
      ]
     },
     "execution_count": 30,
     "metadata": {},
     "output_type": "execute_result"
    }
   ],
   "source": [
    "# Holonomic constraints\n",
    "#holonomic_constraint = [x_s - x_b - cable_length*((-x_b + x_s)/math.sqrt((-x_b + x_s)**2 + (-y_b + y_s)**2 + (-z_b + z_s)**2)),\n",
    "#                        y_s - y_b - cable_length*((-y_b + y_s)/math.sqrt((-x_b + x_s)**2 + (-y_b + y_s)**2 + (-z_b + z_s)**2)),\n",
    "#                        z_s - z_b - cable_length*((-z_b + z_s)/math.sqrt((-x_b + x_s)**2 + (-y_b + y_s)**2 + (-z_b + z_s)**2))]\n",
    "\n",
    "holonomic_constraint = [x_m - cable_length*matU[0],\n",
    "                        y_m - cable_length*matU[1],\n",
    "                        z_m - cable_length*matU[2]]\n",
    "\n",
    "dependent = [x_m, y_m, z_m]\n",
    "holonomic_constraint"
   ]
  },
  {
   "cell_type": "code",
   "execution_count": 31,
   "metadata": {
    "collapsed": false
   },
   "outputs": [],
   "source": [
    "kane = KanesMethod(inertial_frame, coordinates, speeds, kinematical_differential_equations, q_dependent=dependent, configuration_constraints=holonomic_constraint, u_dependent=None, velocity_constraints=None, acceleration_constraints=None, u_auxiliary=None)"
   ]
  },
  {
   "cell_type": "code",
   "execution_count": 32,
   "metadata": {
    "collapsed": false
   },
   "outputs": [
    {
     "data": {
      "text/plain": [
       "[(M_cm, - g*m_m*I.z), (M, F_m*M.x), (M, T_m*M.y)]"
      ]
     },
     "execution_count": 32,
     "metadata": {},
     "output_type": "execute_result"
    }
   ],
   "source": [
    "loads = [mass_grav_force,\n",
    "         mass_AppliedForce,\n",
    "         mass_AppliedTorque]\n",
    "loads"
   ]
  },
  {
   "cell_type": "code",
   "execution_count": 33,
   "metadata": {
    "collapsed": false
   },
   "outputs": [
    {
     "data": {
      "text/plain": [
       "[Mass]"
      ]
     },
     "execution_count": 33,
     "metadata": {},
     "output_type": "execute_result"
    }
   ],
   "source": [
    "bodies = [mass]\n",
    "bodies"
   ]
  },
  {
   "cell_type": "code",
   "execution_count": 34,
   "metadata": {
    "collapsed": false
   },
   "outputs": [
    {
     "data": {
      "text/latex": [
       "$$\\left[\\begin{matrix}0\\\\0\\\\- g m_{m}\\\\F_{m} \\operatorname{cos}\\left(\\psi_{m}\\right) \\operatorname{cos}\\left(\\theta_{m}\\right) - T_{m} \\operatorname{sin}\\left(\\psi_{m}\\right) \\operatorname{cos}\\left(\\theta_{m}\\right)\\\\\\left(- \\operatorname{sin}\\left(\\phi_{m}\\right) \\operatorname{sin}\\left(\\psi_{m}\\right) \\operatorname{sin}\\left(\\theta_{m}\\right) + \\operatorname{cos}\\left(\\phi_{m}\\right) \\operatorname{cos}\\left(\\psi_{m}\\right)\\right) T_{m} + \\left(\\operatorname{sin}\\left(\\phi_{m}\\right) \\operatorname{sin}\\left(\\theta_{m}\\right) \\operatorname{cos}\\left(\\psi_{m}\\right) + \\operatorname{sin}\\left(\\psi_{m}\\right) \\operatorname{cos}\\left(\\phi_{m}\\right)\\right) F_{m}\\\\\\left(\\operatorname{sin}\\left(\\phi_{m}\\right) \\operatorname{sin}\\left(\\psi_{m}\\right) - \\operatorname{sin}\\left(\\theta_{m}\\right) \\operatorname{cos}\\left(\\phi_{m}\\right) \\operatorname{cos}\\left(\\psi_{m}\\right)\\right) F_{m} + \\left(\\operatorname{sin}\\left(\\phi_{m}\\right) \\operatorname{cos}\\left(\\psi_{m}\\right) + \\operatorname{sin}\\left(\\psi_{m}\\right) \\operatorname{sin}\\left(\\theta_{m}\\right) \\operatorname{cos}\\left(\\phi_{m}\\right)\\right) T_{m}\\end{matrix}\\right]$$"
      ],
      "text/plain": [
       "Matrix([\n",
       "[                                                                                                                                   0],\n",
       "[                                                                                                                                   0],\n",
       "[                                                                                                                              -g*m_m],\n",
       "[                                                                           F_m*cos(psi_m)*cos(theta_m) - T_m*sin(psi_m)*cos(theta_m)],\n",
       "[(-sin(phi_m)*sin(psi_m)*sin(theta_m) + cos(phi_m)*cos(psi_m))*T_m + (sin(phi_m)*sin(theta_m)*cos(psi_m) + sin(psi_m)*cos(phi_m))*F_m],\n",
       "[ (sin(phi_m)*sin(psi_m) - sin(theta_m)*cos(phi_m)*cos(psi_m))*F_m + (sin(phi_m)*cos(psi_m) + sin(psi_m)*sin(theta_m)*cos(phi_m))*T_m]])"
      ]
     },
     "execution_count": 34,
     "metadata": {},
     "output_type": "execute_result"
    }
   ],
   "source": [
    "fr, frstar = kane.kanes_equations(loads, bodies)\n",
    "fr"
   ]
  },
  {
   "cell_type": "code",
   "execution_count": 35,
   "metadata": {
    "collapsed": false
   },
   "outputs": [
    {
     "data": {
      "text/latex": [
       "$$\\left[\\begin{matrix}- m_{m} \\dot{v}_{xm}\\\\- m_{m} \\dot{v}_{ym}\\\\- m_{m} \\dot{v}_{zm}\\\\- \\left(- I_{Mx} \\left(\\left(\\operatorname{sin}\\left(\\phi_{m}\\right) \\operatorname{sin}\\left(\\psi_{m}\\right) - \\operatorname{sin}\\left(\\theta_{m}\\right) \\operatorname{cos}\\left(\\phi_{m}\\right) \\operatorname{cos}\\left(\\psi_{m}\\right)\\right) \\omega_{m3} + \\left(\\operatorname{sin}\\left(\\phi_{m}\\right) \\operatorname{sin}\\left(\\theta_{m}\\right) \\operatorname{cos}\\left(\\psi_{m}\\right) + \\operatorname{sin}\\left(\\psi_{m}\\right) \\operatorname{cos}\\left(\\phi_{m}\\right)\\right) \\omega_{m2} + \\omega_{m1} \\operatorname{cos}\\left(\\psi_{m}\\right) \\operatorname{cos}\\left(\\theta_{m}\\right)\\right) \\left(\\left(\\operatorname{sin}\\left(\\phi_{m}\\right) \\operatorname{cos}\\left(\\psi_{m}\\right) + \\operatorname{sin}\\left(\\psi_{m}\\right) \\operatorname{sin}\\left(\\theta_{m}\\right) \\operatorname{cos}\\left(\\phi_{m}\\right)\\right) \\omega_{m3} + \\left(- \\operatorname{sin}\\left(\\phi_{m}\\right) \\operatorname{sin}\\left(\\psi_{m}\\right) \\operatorname{sin}\\left(\\theta_{m}\\right) + \\operatorname{cos}\\left(\\phi_{m}\\right) \\operatorname{cos}\\left(\\psi_{m}\\right)\\right) \\omega_{m2} - \\omega_{m1} \\operatorname{sin}\\left(\\psi_{m}\\right) \\operatorname{cos}\\left(\\theta_{m}\\right)\\right) + I_{My} \\left(\\left(\\operatorname{sin}\\left(\\phi_{m}\\right) \\operatorname{sin}\\left(\\psi_{m}\\right) - \\operatorname{sin}\\left(\\theta_{m}\\right) \\operatorname{cos}\\left(\\phi_{m}\\right) \\operatorname{cos}\\left(\\psi_{m}\\right)\\right) \\omega_{m3} + \\left(\\operatorname{sin}\\left(\\phi_{m}\\right) \\operatorname{sin}\\left(\\theta_{m}\\right) \\operatorname{cos}\\left(\\psi_{m}\\right) + \\operatorname{sin}\\left(\\psi_{m}\\right) \\operatorname{cos}\\left(\\phi_{m}\\right)\\right) \\omega_{m2} + \\omega_{m1} \\operatorname{cos}\\left(\\psi_{m}\\right) \\operatorname{cos}\\left(\\theta_{m}\\right)\\right) \\left(\\left(\\operatorname{sin}\\left(\\phi_{m}\\right) \\operatorname{cos}\\left(\\psi_{m}\\right) + \\operatorname{sin}\\left(\\psi_{m}\\right) \\operatorname{sin}\\left(\\theta_{m}\\right) \\operatorname{cos}\\left(\\phi_{m}\\right)\\right) \\omega_{m3} + \\left(- \\operatorname{sin}\\left(\\phi_{m}\\right) \\operatorname{sin}\\left(\\psi_{m}\\right) \\operatorname{sin}\\left(\\theta_{m}\\right) + \\operatorname{cos}\\left(\\phi_{m}\\right) \\operatorname{cos}\\left(\\psi_{m}\\right)\\right) \\omega_{m2} - \\omega_{m1} \\operatorname{sin}\\left(\\psi_{m}\\right) \\operatorname{cos}\\left(\\theta_{m}\\right)\\right)\\right) \\operatorname{sin}\\left(\\theta_{m}\\right) + \\left(I_{Mx} \\left(\\left(\\operatorname{sin}\\left(\\phi_{m}\\right) \\operatorname{sin}\\left(\\psi_{m}\\right) - \\operatorname{sin}\\left(\\theta_{m}\\right) \\operatorname{cos}\\left(\\phi_{m}\\right) \\operatorname{cos}\\left(\\psi_{m}\\right)\\right) \\omega_{m3} + \\left(\\operatorname{sin}\\left(\\phi_{m}\\right) \\operatorname{sin}\\left(\\theta_{m}\\right) \\operatorname{cos}\\left(\\psi_{m}\\right) + \\operatorname{sin}\\left(\\psi_{m}\\right) \\operatorname{cos}\\left(\\phi_{m}\\right)\\right) \\omega_{m2} + \\omega_{m1} \\operatorname{cos}\\left(\\psi_{m}\\right) \\operatorname{cos}\\left(\\theta_{m}\\right)\\right) \\left(\\omega_{m1} \\operatorname{sin}\\left(\\theta_{m}\\right) - \\omega_{m2} \\operatorname{sin}\\left(\\phi_{m}\\right) \\operatorname{cos}\\left(\\theta_{m}\\right) + \\omega_{m3} \\operatorname{cos}\\left(\\phi_{m}\\right) \\operatorname{cos}\\left(\\theta_{m}\\right)\\right) - I_{Mz} \\left(\\left(\\operatorname{sin}\\left(\\phi_{m}\\right) \\operatorname{sin}\\left(\\psi_{m}\\right) - \\operatorname{sin}\\left(\\theta_{m}\\right) \\operatorname{cos}\\left(\\phi_{m}\\right) \\operatorname{cos}\\left(\\psi_{m}\\right)\\right) \\omega_{m3} + \\left(\\operatorname{sin}\\left(\\phi_{m}\\right) \\operatorname{sin}\\left(\\theta_{m}\\right) \\operatorname{cos}\\left(\\psi_{m}\\right) + \\operatorname{sin}\\left(\\psi_{m}\\right) \\operatorname{cos}\\left(\\phi_{m}\\right)\\right) \\omega_{m2} + \\omega_{m1} \\operatorname{cos}\\left(\\psi_{m}\\right) \\operatorname{cos}\\left(\\theta_{m}\\right)\\right) \\left(\\omega_{m1} \\operatorname{sin}\\left(\\theta_{m}\\right) - \\omega_{m2} \\operatorname{sin}\\left(\\phi_{m}\\right) \\operatorname{cos}\\left(\\theta_{m}\\right) + \\omega_{m3} \\operatorname{cos}\\left(\\phi_{m}\\right) \\operatorname{cos}\\left(\\theta_{m}\\right)\\right)\\right) \\operatorname{sin}\\left(\\psi_{m}\\right) \\operatorname{cos}\\left(\\theta_{m}\\right) - \\left(- I_{My} \\left(\\left(\\operatorname{sin}\\left(\\phi_{m}\\right) \\operatorname{cos}\\left(\\psi_{m}\\right) + \\operatorname{sin}\\left(\\psi_{m}\\right) \\operatorname{sin}\\left(\\theta_{m}\\right) \\operatorname{cos}\\left(\\phi_{m}\\right)\\right) \\omega_{m3} + \\left(- \\operatorname{sin}\\left(\\phi_{m}\\right) \\operatorname{sin}\\left(\\psi_{m}\\right) \\operatorname{sin}\\left(\\theta_{m}\\right) + \\operatorname{cos}\\left(\\phi_{m}\\right) \\operatorname{cos}\\left(\\psi_{m}\\right)\\right) \\omega_{m2} - \\omega_{m1} \\operatorname{sin}\\left(\\psi_{m}\\right) \\operatorname{cos}\\left(\\theta_{m}\\right)\\right) \\left(\\omega_{m1} \\operatorname{sin}\\left(\\theta_{m}\\right) - \\omega_{m2} \\operatorname{sin}\\left(\\phi_{m}\\right) \\operatorname{cos}\\left(\\theta_{m}\\right) + \\omega_{m3} \\operatorname{cos}\\left(\\phi_{m}\\right) \\operatorname{cos}\\left(\\theta_{m}\\right)\\right) + I_{Mz} \\left(\\left(\\operatorname{sin}\\left(\\phi_{m}\\right) \\operatorname{cos}\\left(\\psi_{m}\\right) + \\operatorname{sin}\\left(\\psi_{m}\\right) \\operatorname{sin}\\left(\\theta_{m}\\right) \\operatorname{cos}\\left(\\phi_{m}\\right)\\right) \\omega_{m3} + \\left(- \\operatorname{sin}\\left(\\phi_{m}\\right) \\operatorname{sin}\\left(\\psi_{m}\\right) \\operatorname{sin}\\left(\\theta_{m}\\right) + \\operatorname{cos}\\left(\\phi_{m}\\right) \\operatorname{cos}\\left(\\psi_{m}\\right)\\right) \\omega_{m2} - \\omega_{m1} \\operatorname{sin}\\left(\\psi_{m}\\right) \\operatorname{cos}\\left(\\theta_{m}\\right)\\right) \\left(\\omega_{m1} \\operatorname{sin}\\left(\\theta_{m}\\right) - \\omega_{m2} \\operatorname{sin}\\left(\\phi_{m}\\right) \\operatorname{cos}\\left(\\theta_{m}\\right) + \\omega_{m3} \\operatorname{cos}\\left(\\phi_{m}\\right) \\operatorname{cos}\\left(\\theta_{m}\\right)\\right)\\right) \\operatorname{cos}\\left(\\psi_{m}\\right) \\operatorname{cos}\\left(\\theta_{m}\\right) - \\left(I_{Mx} \\operatorname{cos}^{2}\\left(\\psi_{m}\\right) \\operatorname{cos}^{2}\\left(\\theta_{m}\\right) + I_{My} \\operatorname{sin}^{2}\\left(\\psi_{m}\\right) \\operatorname{cos}^{2}\\left(\\theta_{m}\\right) + I_{Mz} \\operatorname{sin}^{2}\\left(\\theta_{m}\\right)\\right) \\dot{\\omega}_{m1} - \\left(I_{Mx} \\left(\\operatorname{sin}\\left(\\phi_{m}\\right) \\operatorname{sin}\\left(\\psi_{m}\\right) - \\operatorname{sin}\\left(\\theta_{m}\\right) \\operatorname{cos}\\left(\\phi_{m}\\right) \\operatorname{cos}\\left(\\psi_{m}\\right)\\right) \\operatorname{cos}\\left(\\psi_{m}\\right) \\operatorname{cos}\\left(\\theta_{m}\\right) - I_{My} \\left(\\operatorname{sin}\\left(\\phi_{m}\\right) \\operatorname{cos}\\left(\\psi_{m}\\right) + \\operatorname{sin}\\left(\\psi_{m}\\right) \\operatorname{sin}\\left(\\theta_{m}\\right) \\operatorname{cos}\\left(\\phi_{m}\\right)\\right) \\operatorname{sin}\\left(\\psi_{m}\\right) \\operatorname{cos}\\left(\\theta_{m}\\right) + I_{Mz} \\operatorname{sin}\\left(\\theta_{m}\\right) \\operatorname{cos}\\left(\\phi_{m}\\right) \\operatorname{cos}\\left(\\theta_{m}\\right)\\right) \\dot{\\omega}_{m3} - \\left(I_{Mx} \\left(\\operatorname{sin}\\left(\\phi_{m}\\right) \\operatorname{sin}\\left(\\theta_{m}\\right) \\operatorname{cos}\\left(\\psi_{m}\\right) + \\operatorname{sin}\\left(\\psi_{m}\\right) \\operatorname{cos}\\left(\\phi_{m}\\right)\\right) \\operatorname{cos}\\left(\\psi_{m}\\right) \\operatorname{cos}\\left(\\theta_{m}\\right) - I_{My} \\left(- \\operatorname{sin}\\left(\\phi_{m}\\right) \\operatorname{sin}\\left(\\psi_{m}\\right) \\operatorname{sin}\\left(\\theta_{m}\\right) + \\operatorname{cos}\\left(\\phi_{m}\\right) \\operatorname{cos}\\left(\\psi_{m}\\right)\\right) \\operatorname{sin}\\left(\\psi_{m}\\right) \\operatorname{cos}\\left(\\theta_{m}\\right) - I_{Mz} \\operatorname{sin}\\left(\\phi_{m}\\right) \\operatorname{sin}\\left(\\theta_{m}\\right) \\operatorname{cos}\\left(\\theta_{m}\\right)\\right) \\dot{\\omega}_{m2}\\\\\\left(- I_{Mx} \\left(\\left(\\operatorname{sin}\\left(\\phi_{m}\\right) \\operatorname{sin}\\left(\\psi_{m}\\right) - \\operatorname{sin}\\left(\\theta_{m}\\right) \\operatorname{cos}\\left(\\phi_{m}\\right) \\operatorname{cos}\\left(\\psi_{m}\\right)\\right) \\omega_{m3} + \\left(\\operatorname{sin}\\left(\\phi_{m}\\right) \\operatorname{sin}\\left(\\theta_{m}\\right) \\operatorname{cos}\\left(\\psi_{m}\\right) + \\operatorname{sin}\\left(\\psi_{m}\\right) \\operatorname{cos}\\left(\\phi_{m}\\right)\\right) \\omega_{m2} + \\omega_{m1} \\operatorname{cos}\\left(\\psi_{m}\\right) \\operatorname{cos}\\left(\\theta_{m}\\right)\\right) \\left(\\left(\\operatorname{sin}\\left(\\phi_{m}\\right) \\operatorname{cos}\\left(\\psi_{m}\\right) + \\operatorname{sin}\\left(\\psi_{m}\\right) \\operatorname{sin}\\left(\\theta_{m}\\right) \\operatorname{cos}\\left(\\phi_{m}\\right)\\right) \\omega_{m3} + \\left(- \\operatorname{sin}\\left(\\phi_{m}\\right) \\operatorname{sin}\\left(\\psi_{m}\\right) \\operatorname{sin}\\left(\\theta_{m}\\right) + \\operatorname{cos}\\left(\\phi_{m}\\right) \\operatorname{cos}\\left(\\psi_{m}\\right)\\right) \\omega_{m2} - \\omega_{m1} \\operatorname{sin}\\left(\\psi_{m}\\right) \\operatorname{cos}\\left(\\theta_{m}\\right)\\right) + I_{My} \\left(\\left(\\operatorname{sin}\\left(\\phi_{m}\\right) \\operatorname{sin}\\left(\\psi_{m}\\right) - \\operatorname{sin}\\left(\\theta_{m}\\right) \\operatorname{cos}\\left(\\phi_{m}\\right) \\operatorname{cos}\\left(\\psi_{m}\\right)\\right) \\omega_{m3} + \\left(\\operatorname{sin}\\left(\\phi_{m}\\right) \\operatorname{sin}\\left(\\theta_{m}\\right) \\operatorname{cos}\\left(\\psi_{m}\\right) + \\operatorname{sin}\\left(\\psi_{m}\\right) \\operatorname{cos}\\left(\\phi_{m}\\right)\\right) \\omega_{m2} + \\omega_{m1} \\operatorname{cos}\\left(\\psi_{m}\\right) \\operatorname{cos}\\left(\\theta_{m}\\right)\\right) \\left(\\left(\\operatorname{sin}\\left(\\phi_{m}\\right) \\operatorname{cos}\\left(\\psi_{m}\\right) + \\operatorname{sin}\\left(\\psi_{m}\\right) \\operatorname{sin}\\left(\\theta_{m}\\right) \\operatorname{cos}\\left(\\phi_{m}\\right)\\right) \\omega_{m3} + \\left(- \\operatorname{sin}\\left(\\phi_{m}\\right) \\operatorname{sin}\\left(\\psi_{m}\\right) \\operatorname{sin}\\left(\\theta_{m}\\right) + \\operatorname{cos}\\left(\\phi_{m}\\right) \\operatorname{cos}\\left(\\psi_{m}\\right)\\right) \\omega_{m2} - \\omega_{m1} \\operatorname{sin}\\left(\\psi_{m}\\right) \\operatorname{cos}\\left(\\theta_{m}\\right)\\right)\\right) \\operatorname{sin}\\left(\\phi_{m}\\right) \\operatorname{cos}\\left(\\theta_{m}\\right) - \\left(I_{Mx} \\left(\\left(\\operatorname{sin}\\left(\\phi_{m}\\right) \\operatorname{sin}\\left(\\psi_{m}\\right) - \\operatorname{sin}\\left(\\theta_{m}\\right) \\operatorname{cos}\\left(\\phi_{m}\\right) \\operatorname{cos}\\left(\\psi_{m}\\right)\\right) \\omega_{m3} + \\left(\\operatorname{sin}\\left(\\phi_{m}\\right) \\operatorname{sin}\\left(\\theta_{m}\\right) \\operatorname{cos}\\left(\\psi_{m}\\right) + \\operatorname{sin}\\left(\\psi_{m}\\right) \\operatorname{cos}\\left(\\phi_{m}\\right)\\right) \\omega_{m2} + \\omega_{m1} \\operatorname{cos}\\left(\\psi_{m}\\right) \\operatorname{cos}\\left(\\theta_{m}\\right)\\right) \\left(\\omega_{m1} \\operatorname{sin}\\left(\\theta_{m}\\right) - \\omega_{m2} \\operatorname{sin}\\left(\\phi_{m}\\right) \\operatorname{cos}\\left(\\theta_{m}\\right) + \\omega_{m3} \\operatorname{cos}\\left(\\phi_{m}\\right) \\operatorname{cos}\\left(\\theta_{m}\\right)\\right) - I_{Mz} \\left(\\left(\\operatorname{sin}\\left(\\phi_{m}\\right) \\operatorname{sin}\\left(\\psi_{m}\\right) - \\operatorname{sin}\\left(\\theta_{m}\\right) \\operatorname{cos}\\left(\\phi_{m}\\right) \\operatorname{cos}\\left(\\psi_{m}\\right)\\right) \\omega_{m3} + \\left(\\operatorname{sin}\\left(\\phi_{m}\\right) \\operatorname{sin}\\left(\\theta_{m}\\right) \\operatorname{cos}\\left(\\psi_{m}\\right) + \\operatorname{sin}\\left(\\psi_{m}\\right) \\operatorname{cos}\\left(\\phi_{m}\\right)\\right) \\omega_{m2} + \\omega_{m1} \\operatorname{cos}\\left(\\psi_{m}\\right) \\operatorname{cos}\\left(\\theta_{m}\\right)\\right) \\left(\\omega_{m1} \\operatorname{sin}\\left(\\theta_{m}\\right) - \\omega_{m2} \\operatorname{sin}\\left(\\phi_{m}\\right) \\operatorname{cos}\\left(\\theta_{m}\\right) + \\omega_{m3} \\operatorname{cos}\\left(\\phi_{m}\\right) \\operatorname{cos}\\left(\\theta_{m}\\right)\\right)\\right) \\left(- \\operatorname{sin}\\left(\\phi_{m}\\right) \\operatorname{sin}\\left(\\psi_{m}\\right) \\operatorname{sin}\\left(\\theta_{m}\\right) + \\operatorname{cos}\\left(\\phi_{m}\\right) \\operatorname{cos}\\left(\\psi_{m}\\right)\\right) - \\left(- I_{My} \\left(\\left(\\operatorname{sin}\\left(\\phi_{m}\\right) \\operatorname{cos}\\left(\\psi_{m}\\right) + \\operatorname{sin}\\left(\\psi_{m}\\right) \\operatorname{sin}\\left(\\theta_{m}\\right) \\operatorname{cos}\\left(\\phi_{m}\\right)\\right) \\omega_{m3} + \\left(- \\operatorname{sin}\\left(\\phi_{m}\\right) \\operatorname{sin}\\left(\\psi_{m}\\right) \\operatorname{sin}\\left(\\theta_{m}\\right) + \\operatorname{cos}\\left(\\phi_{m}\\right) \\operatorname{cos}\\left(\\psi_{m}\\right)\\right) \\omega_{m2} - \\omega_{m1} \\operatorname{sin}\\left(\\psi_{m}\\right) \\operatorname{cos}\\left(\\theta_{m}\\right)\\right) \\left(\\omega_{m1} \\operatorname{sin}\\left(\\theta_{m}\\right) - \\omega_{m2} \\operatorname{sin}\\left(\\phi_{m}\\right) \\operatorname{cos}\\left(\\theta_{m}\\right) + \\omega_{m3} \\operatorname{cos}\\left(\\phi_{m}\\right) \\operatorname{cos}\\left(\\theta_{m}\\right)\\right) + I_{Mz} \\left(\\left(\\operatorname{sin}\\left(\\phi_{m}\\right) \\operatorname{cos}\\left(\\psi_{m}\\right) + \\operatorname{sin}\\left(\\psi_{m}\\right) \\operatorname{sin}\\left(\\theta_{m}\\right) \\operatorname{cos}\\left(\\phi_{m}\\right)\\right) \\omega_{m3} + \\left(- \\operatorname{sin}\\left(\\phi_{m}\\right) \\operatorname{sin}\\left(\\psi_{m}\\right) \\operatorname{sin}\\left(\\theta_{m}\\right) + \\operatorname{cos}\\left(\\phi_{m}\\right) \\operatorname{cos}\\left(\\psi_{m}\\right)\\right) \\omega_{m2} - \\omega_{m1} \\operatorname{sin}\\left(\\psi_{m}\\right) \\operatorname{cos}\\left(\\theta_{m}\\right)\\right) \\left(\\omega_{m1} \\operatorname{sin}\\left(\\theta_{m}\\right) - \\omega_{m2} \\operatorname{sin}\\left(\\phi_{m}\\right) \\operatorname{cos}\\left(\\theta_{m}\\right) + \\omega_{m3} \\operatorname{cos}\\left(\\phi_{m}\\right) \\operatorname{cos}\\left(\\theta_{m}\\right)\\right)\\right) \\left(\\operatorname{sin}\\left(\\phi_{m}\\right) \\operatorname{sin}\\left(\\theta_{m}\\right) \\operatorname{cos}\\left(\\psi_{m}\\right) + \\operatorname{sin}\\left(\\psi_{m}\\right) \\operatorname{cos}\\left(\\phi_{m}\\right)\\right) - \\left(I_{Mx} \\left(\\operatorname{sin}\\left(\\phi_{m}\\right) \\operatorname{sin}\\left(\\theta_{m}\\right) \\operatorname{cos}\\left(\\psi_{m}\\right) + \\operatorname{sin}\\left(\\psi_{m}\\right) \\operatorname{cos}\\left(\\phi_{m}\\right)\\right)^{2} + I_{My} \\left(- \\operatorname{sin}\\left(\\phi_{m}\\right) \\operatorname{sin}\\left(\\psi_{m}\\right) \\operatorname{sin}\\left(\\theta_{m}\\right) + \\operatorname{cos}\\left(\\phi_{m}\\right) \\operatorname{cos}\\left(\\psi_{m}\\right)\\right)^{2} + I_{Mz} \\operatorname{sin}^{2}\\left(\\phi_{m}\\right) \\operatorname{cos}^{2}\\left(\\theta_{m}\\right)\\right) \\dot{\\omega}_{m2} - \\left(I_{Mx} \\left(\\operatorname{sin}\\left(\\phi_{m}\\right) \\operatorname{sin}\\left(\\psi_{m}\\right) - \\operatorname{sin}\\left(\\theta_{m}\\right) \\operatorname{cos}\\left(\\phi_{m}\\right) \\operatorname{cos}\\left(\\psi_{m}\\right)\\right) \\left(\\operatorname{sin}\\left(\\phi_{m}\\right) \\operatorname{sin}\\left(\\theta_{m}\\right) \\operatorname{cos}\\left(\\psi_{m}\\right) + \\operatorname{sin}\\left(\\psi_{m}\\right) \\operatorname{cos}\\left(\\phi_{m}\\right)\\right) + I_{My} \\left(\\operatorname{sin}\\left(\\phi_{m}\\right) \\operatorname{cos}\\left(\\psi_{m}\\right) + \\operatorname{sin}\\left(\\psi_{m}\\right) \\operatorname{sin}\\left(\\theta_{m}\\right) \\operatorname{cos}\\left(\\phi_{m}\\right)\\right) \\left(- \\operatorname{sin}\\left(\\phi_{m}\\right) \\operatorname{sin}\\left(\\psi_{m}\\right) \\operatorname{sin}\\left(\\theta_{m}\\right) + \\operatorname{cos}\\left(\\phi_{m}\\right) \\operatorname{cos}\\left(\\psi_{m}\\right)\\right) - I_{Mz} \\operatorname{sin}\\left(\\phi_{m}\\right) \\operatorname{cos}\\left(\\phi_{m}\\right) \\operatorname{cos}^{2}\\left(\\theta_{m}\\right)\\right) \\dot{\\omega}_{m3} - \\left(I_{Mx} \\left(\\operatorname{sin}\\left(\\phi_{m}\\right) \\operatorname{sin}\\left(\\theta_{m}\\right) \\operatorname{cos}\\left(\\psi_{m}\\right) + \\operatorname{sin}\\left(\\psi_{m}\\right) \\operatorname{cos}\\left(\\phi_{m}\\right)\\right) \\operatorname{cos}\\left(\\psi_{m}\\right) \\operatorname{cos}\\left(\\theta_{m}\\right) - I_{My} \\left(- \\operatorname{sin}\\left(\\phi_{m}\\right) \\operatorname{sin}\\left(\\psi_{m}\\right) \\operatorname{sin}\\left(\\theta_{m}\\right) + \\operatorname{cos}\\left(\\phi_{m}\\right) \\operatorname{cos}\\left(\\psi_{m}\\right)\\right) \\operatorname{sin}\\left(\\psi_{m}\\right) \\operatorname{cos}\\left(\\theta_{m}\\right) - I_{Mz} \\operatorname{sin}\\left(\\phi_{m}\\right) \\operatorname{sin}\\left(\\theta_{m}\\right) \\operatorname{cos}\\left(\\theta_{m}\\right)\\right) \\dot{\\omega}_{m1}\\\\- \\left(\\operatorname{sin}\\left(\\phi_{m}\\right) \\operatorname{sin}\\left(\\psi_{m}\\right) - \\operatorname{sin}\\left(\\theta_{m}\\right) \\operatorname{cos}\\left(\\phi_{m}\\right) \\operatorname{cos}\\left(\\psi_{m}\\right)\\right) \\left(- I_{My} \\left(\\left(\\operatorname{sin}\\left(\\phi_{m}\\right) \\operatorname{cos}\\left(\\psi_{m}\\right) + \\operatorname{sin}\\left(\\psi_{m}\\right) \\operatorname{sin}\\left(\\theta_{m}\\right) \\operatorname{cos}\\left(\\phi_{m}\\right)\\right) \\omega_{m3} + \\left(- \\operatorname{sin}\\left(\\phi_{m}\\right) \\operatorname{sin}\\left(\\psi_{m}\\right) \\operatorname{sin}\\left(\\theta_{m}\\right) + \\operatorname{cos}\\left(\\phi_{m}\\right) \\operatorname{cos}\\left(\\psi_{m}\\right)\\right) \\omega_{m2} - \\omega_{m1} \\operatorname{sin}\\left(\\psi_{m}\\right) \\operatorname{cos}\\left(\\theta_{m}\\right)\\right) \\left(\\omega_{m1} \\operatorname{sin}\\left(\\theta_{m}\\right) - \\omega_{m2} \\operatorname{sin}\\left(\\phi_{m}\\right) \\operatorname{cos}\\left(\\theta_{m}\\right) + \\omega_{m3} \\operatorname{cos}\\left(\\phi_{m}\\right) \\operatorname{cos}\\left(\\theta_{m}\\right)\\right) + I_{Mz} \\left(\\left(\\operatorname{sin}\\left(\\phi_{m}\\right) \\operatorname{cos}\\left(\\psi_{m}\\right) + \\operatorname{sin}\\left(\\psi_{m}\\right) \\operatorname{sin}\\left(\\theta_{m}\\right) \\operatorname{cos}\\left(\\phi_{m}\\right)\\right) \\omega_{m3} + \\left(- \\operatorname{sin}\\left(\\phi_{m}\\right) \\operatorname{sin}\\left(\\psi_{m}\\right) \\operatorname{sin}\\left(\\theta_{m}\\right) + \\operatorname{cos}\\left(\\phi_{m}\\right) \\operatorname{cos}\\left(\\psi_{m}\\right)\\right) \\omega_{m2} - \\omega_{m1} \\operatorname{sin}\\left(\\psi_{m}\\right) \\operatorname{cos}\\left(\\theta_{m}\\right)\\right) \\left(\\omega_{m1} \\operatorname{sin}\\left(\\theta_{m}\\right) - \\omega_{m2} \\operatorname{sin}\\left(\\phi_{m}\\right) \\operatorname{cos}\\left(\\theta_{m}\\right) + \\omega_{m3} \\operatorname{cos}\\left(\\phi_{m}\\right) \\operatorname{cos}\\left(\\theta_{m}\\right)\\right)\\right) - \\left(\\operatorname{sin}\\left(\\phi_{m}\\right) \\operatorname{cos}\\left(\\psi_{m}\\right) + \\operatorname{sin}\\left(\\psi_{m}\\right) \\operatorname{sin}\\left(\\theta_{m}\\right) \\operatorname{cos}\\left(\\phi_{m}\\right)\\right) \\left(I_{Mx} \\left(\\left(\\operatorname{sin}\\left(\\phi_{m}\\right) \\operatorname{sin}\\left(\\psi_{m}\\right) - \\operatorname{sin}\\left(\\theta_{m}\\right) \\operatorname{cos}\\left(\\phi_{m}\\right) \\operatorname{cos}\\left(\\psi_{m}\\right)\\right) \\omega_{m3} + \\left(\\operatorname{sin}\\left(\\phi_{m}\\right) \\operatorname{sin}\\left(\\theta_{m}\\right) \\operatorname{cos}\\left(\\psi_{m}\\right) + \\operatorname{sin}\\left(\\psi_{m}\\right) \\operatorname{cos}\\left(\\phi_{m}\\right)\\right) \\omega_{m2} + \\omega_{m1} \\operatorname{cos}\\left(\\psi_{m}\\right) \\operatorname{cos}\\left(\\theta_{m}\\right)\\right) \\left(\\omega_{m1} \\operatorname{sin}\\left(\\theta_{m}\\right) - \\omega_{m2} \\operatorname{sin}\\left(\\phi_{m}\\right) \\operatorname{cos}\\left(\\theta_{m}\\right) + \\omega_{m3} \\operatorname{cos}\\left(\\phi_{m}\\right) \\operatorname{cos}\\left(\\theta_{m}\\right)\\right) - I_{Mz} \\left(\\left(\\operatorname{sin}\\left(\\phi_{m}\\right) \\operatorname{sin}\\left(\\psi_{m}\\right) - \\operatorname{sin}\\left(\\theta_{m}\\right) \\operatorname{cos}\\left(\\phi_{m}\\right) \\operatorname{cos}\\left(\\psi_{m}\\right)\\right) \\omega_{m3} + \\left(\\operatorname{sin}\\left(\\phi_{m}\\right) \\operatorname{sin}\\left(\\theta_{m}\\right) \\operatorname{cos}\\left(\\psi_{m}\\right) + \\operatorname{sin}\\left(\\psi_{m}\\right) \\operatorname{cos}\\left(\\phi_{m}\\right)\\right) \\omega_{m2} + \\omega_{m1} \\operatorname{cos}\\left(\\psi_{m}\\right) \\operatorname{cos}\\left(\\theta_{m}\\right)\\right) \\left(\\omega_{m1} \\operatorname{sin}\\left(\\theta_{m}\\right) - \\omega_{m2} \\operatorname{sin}\\left(\\phi_{m}\\right) \\operatorname{cos}\\left(\\theta_{m}\\right) + \\omega_{m3} \\operatorname{cos}\\left(\\phi_{m}\\right) \\operatorname{cos}\\left(\\theta_{m}\\right)\\right)\\right) - \\left(- I_{Mx} \\left(\\left(\\operatorname{sin}\\left(\\phi_{m}\\right) \\operatorname{sin}\\left(\\psi_{m}\\right) - \\operatorname{sin}\\left(\\theta_{m}\\right) \\operatorname{cos}\\left(\\phi_{m}\\right) \\operatorname{cos}\\left(\\psi_{m}\\right)\\right) \\omega_{m3} + \\left(\\operatorname{sin}\\left(\\phi_{m}\\right) \\operatorname{sin}\\left(\\theta_{m}\\right) \\operatorname{cos}\\left(\\psi_{m}\\right) + \\operatorname{sin}\\left(\\psi_{m}\\right) \\operatorname{cos}\\left(\\phi_{m}\\right)\\right) \\omega_{m2} + \\omega_{m1} \\operatorname{cos}\\left(\\psi_{m}\\right) \\operatorname{cos}\\left(\\theta_{m}\\right)\\right) \\left(\\left(\\operatorname{sin}\\left(\\phi_{m}\\right) \\operatorname{cos}\\left(\\psi_{m}\\right) + \\operatorname{sin}\\left(\\psi_{m}\\right) \\operatorname{sin}\\left(\\theta_{m}\\right) \\operatorname{cos}\\left(\\phi_{m}\\right)\\right) \\omega_{m3} + \\left(- \\operatorname{sin}\\left(\\phi_{m}\\right) \\operatorname{sin}\\left(\\psi_{m}\\right) \\operatorname{sin}\\left(\\theta_{m}\\right) + \\operatorname{cos}\\left(\\phi_{m}\\right) \\operatorname{cos}\\left(\\psi_{m}\\right)\\right) \\omega_{m2} - \\omega_{m1} \\operatorname{sin}\\left(\\psi_{m}\\right) \\operatorname{cos}\\left(\\theta_{m}\\right)\\right) + I_{My} \\left(\\left(\\operatorname{sin}\\left(\\phi_{m}\\right) \\operatorname{sin}\\left(\\psi_{m}\\right) - \\operatorname{sin}\\left(\\theta_{m}\\right) \\operatorname{cos}\\left(\\phi_{m}\\right) \\operatorname{cos}\\left(\\psi_{m}\\right)\\right) \\omega_{m3} + \\left(\\operatorname{sin}\\left(\\phi_{m}\\right) \\operatorname{sin}\\left(\\theta_{m}\\right) \\operatorname{cos}\\left(\\psi_{m}\\right) + \\operatorname{sin}\\left(\\psi_{m}\\right) \\operatorname{cos}\\left(\\phi_{m}\\right)\\right) \\omega_{m2} + \\omega_{m1} \\operatorname{cos}\\left(\\psi_{m}\\right) \\operatorname{cos}\\left(\\theta_{m}\\right)\\right) \\left(\\left(\\operatorname{sin}\\left(\\phi_{m}\\right) \\operatorname{cos}\\left(\\psi_{m}\\right) + \\operatorname{sin}\\left(\\psi_{m}\\right) \\operatorname{sin}\\left(\\theta_{m}\\right) \\operatorname{cos}\\left(\\phi_{m}\\right)\\right) \\omega_{m3} + \\left(- \\operatorname{sin}\\left(\\phi_{m}\\right) \\operatorname{sin}\\left(\\psi_{m}\\right) \\operatorname{sin}\\left(\\theta_{m}\\right) + \\operatorname{cos}\\left(\\phi_{m}\\right) \\operatorname{cos}\\left(\\psi_{m}\\right)\\right) \\omega_{m2} - \\omega_{m1} \\operatorname{sin}\\left(\\psi_{m}\\right) \\operatorname{cos}\\left(\\theta_{m}\\right)\\right)\\right) \\operatorname{cos}\\left(\\phi_{m}\\right) \\operatorname{cos}\\left(\\theta_{m}\\right) - \\left(I_{Mx} \\left(\\operatorname{sin}\\left(\\phi_{m}\\right) \\operatorname{sin}\\left(\\psi_{m}\\right) - \\operatorname{sin}\\left(\\theta_{m}\\right) \\operatorname{cos}\\left(\\phi_{m}\\right) \\operatorname{cos}\\left(\\psi_{m}\\right)\\right)^{2} + I_{My} \\left(\\operatorname{sin}\\left(\\phi_{m}\\right) \\operatorname{cos}\\left(\\psi_{m}\\right) + \\operatorname{sin}\\left(\\psi_{m}\\right) \\operatorname{sin}\\left(\\theta_{m}\\right) \\operatorname{cos}\\left(\\phi_{m}\\right)\\right)^{2} + I_{Mz} \\operatorname{cos}^{2}\\left(\\phi_{m}\\right) \\operatorname{cos}^{2}\\left(\\theta_{m}\\right)\\right) \\dot{\\omega}_{m3} - \\left(I_{Mx} \\left(\\operatorname{sin}\\left(\\phi_{m}\\right) \\operatorname{sin}\\left(\\psi_{m}\\right) - \\operatorname{sin}\\left(\\theta_{m}\\right) \\operatorname{cos}\\left(\\phi_{m}\\right) \\operatorname{cos}\\left(\\psi_{m}\\right)\\right) \\left(\\operatorname{sin}\\left(\\phi_{m}\\right) \\operatorname{sin}\\left(\\theta_{m}\\right) \\operatorname{cos}\\left(\\psi_{m}\\right) + \\operatorname{sin}\\left(\\psi_{m}\\right) \\operatorname{cos}\\left(\\phi_{m}\\right)\\right) + I_{My} \\left(\\operatorname{sin}\\left(\\phi_{m}\\right) \\operatorname{cos}\\left(\\psi_{m}\\right) + \\operatorname{sin}\\left(\\psi_{m}\\right) \\operatorname{sin}\\left(\\theta_{m}\\right) \\operatorname{cos}\\left(\\phi_{m}\\right)\\right) \\left(- \\operatorname{sin}\\left(\\phi_{m}\\right) \\operatorname{sin}\\left(\\psi_{m}\\right) \\operatorname{sin}\\left(\\theta_{m}\\right) + \\operatorname{cos}\\left(\\phi_{m}\\right) \\operatorname{cos}\\left(\\psi_{m}\\right)\\right) - I_{Mz} \\operatorname{sin}\\left(\\phi_{m}\\right) \\operatorname{cos}\\left(\\phi_{m}\\right) \\operatorname{cos}^{2}\\left(\\theta_{m}\\right)\\right) \\dot{\\omega}_{m2} - \\left(I_{Mx} \\left(\\operatorname{sin}\\left(\\phi_{m}\\right) \\operatorname{sin}\\left(\\psi_{m}\\right) - \\operatorname{sin}\\left(\\theta_{m}\\right) \\operatorname{cos}\\left(\\phi_{m}\\right) \\operatorname{cos}\\left(\\psi_{m}\\right)\\right) \\operatorname{cos}\\left(\\psi_{m}\\right) \\operatorname{cos}\\left(\\theta_{m}\\right) - I_{My} \\left(\\operatorname{sin}\\left(\\phi_{m}\\right) \\operatorname{cos}\\left(\\psi_{m}\\right) + \\operatorname{sin}\\left(\\psi_{m}\\right) \\operatorname{sin}\\left(\\theta_{m}\\right) \\operatorname{cos}\\left(\\phi_{m}\\right)\\right) \\operatorname{sin}\\left(\\psi_{m}\\right) \\operatorname{cos}\\left(\\theta_{m}\\right) + I_{Mz} \\operatorname{sin}\\left(\\theta_{m}\\right) \\operatorname{cos}\\left(\\phi_{m}\\right) \\operatorname{cos}\\left(\\theta_{m}\\right)\\right) \\dot{\\omega}_{m1}\\end{matrix}\\right]$$"
      ],
      "text/plain": [
       "Matrix([\n",
       "[                                                                                                                                                                                                                                                                                                                                                                                                                                                                                                                                                                                                                                                                                                                                                                                                                                                                                                                                                                                                                                                                                                                                                                                                                                                                                                                                                                                                                                                                                                                                                                                                                                                                                                                                                                                                                                                                                                                                                                                                                                                                                                                                                                                                                                                                                                                                                                                                                                                                                                                                                                                                                                                                                                                                                                                                                                                         -m_m*v_xm'],\n",
       "[                                                                                                                                                                                                                                                                                                                                                                                                                                                                                                                                                                                                                                                                                                                                                                                                                                                                                                                                                                                                                                                                                                                                                                                                                                                                                                                                                                                                                                                                                                                                                                                                                                                                                                                                                                                                                                                                                                                                                                                                                                                                                                                                                                                                                                                                                                                                                                                                                                                                                                                                                                                                                                                                                                                                                                                                                                                         -m_m*v_ym'],\n",
       "[                                                                                                                                                                                                                                                                                                                                                                                                                                                                                                                                                                                                                                                                                                                                                                                                                                                                                                                                                                                                                                                                                                                                                                                                                                                                                                                                                                                                                                                                                                                                                                                                                                                                                                                                                                                                                                                                                                                                                                                                                                                                                                                                                                                                                                                                                                                                                                                                                                                                                                                                                                                                                                                                                                                                                                                                                                                         -m_m*v_zm'],\n",
       "[                                                                                                                                                                                                                                                    -(-I_Mx*((sin(phi_m)*sin(psi_m) - sin(theta_m)*cos(phi_m)*cos(psi_m))*omega_m3 + (sin(phi_m)*sin(theta_m)*cos(psi_m) + sin(psi_m)*cos(phi_m))*omega_m2 + omega_m1*cos(psi_m)*cos(theta_m))*((sin(phi_m)*cos(psi_m) + sin(psi_m)*sin(theta_m)*cos(phi_m))*omega_m3 + (-sin(phi_m)*sin(psi_m)*sin(theta_m) + cos(phi_m)*cos(psi_m))*omega_m2 - omega_m1*sin(psi_m)*cos(theta_m)) + I_My*((sin(phi_m)*sin(psi_m) - sin(theta_m)*cos(phi_m)*cos(psi_m))*omega_m3 + (sin(phi_m)*sin(theta_m)*cos(psi_m) + sin(psi_m)*cos(phi_m))*omega_m2 + omega_m1*cos(psi_m)*cos(theta_m))*((sin(phi_m)*cos(psi_m) + sin(psi_m)*sin(theta_m)*cos(phi_m))*omega_m3 + (-sin(phi_m)*sin(psi_m)*sin(theta_m) + cos(phi_m)*cos(psi_m))*omega_m2 - omega_m1*sin(psi_m)*cos(theta_m)))*sin(theta_m) + (I_Mx*((sin(phi_m)*sin(psi_m) - sin(theta_m)*cos(phi_m)*cos(psi_m))*omega_m3 + (sin(phi_m)*sin(theta_m)*cos(psi_m) + sin(psi_m)*cos(phi_m))*omega_m2 + omega_m1*cos(psi_m)*cos(theta_m))*(omega_m1*sin(theta_m) - omega_m2*sin(phi_m)*cos(theta_m) + omega_m3*cos(phi_m)*cos(theta_m)) - I_Mz*((sin(phi_m)*sin(psi_m) - sin(theta_m)*cos(phi_m)*cos(psi_m))*omega_m3 + (sin(phi_m)*sin(theta_m)*cos(psi_m) + sin(psi_m)*cos(phi_m))*omega_m2 + omega_m1*cos(psi_m)*cos(theta_m))*(omega_m1*sin(theta_m) - omega_m2*sin(phi_m)*cos(theta_m) + omega_m3*cos(phi_m)*cos(theta_m)))*sin(psi_m)*cos(theta_m) - (-I_My*((sin(phi_m)*cos(psi_m) + sin(psi_m)*sin(theta_m)*cos(phi_m))*omega_m3 + (-sin(phi_m)*sin(psi_m)*sin(theta_m) + cos(phi_m)*cos(psi_m))*omega_m2 - omega_m1*sin(psi_m)*cos(theta_m))*(omega_m1*sin(theta_m) - omega_m2*sin(phi_m)*cos(theta_m) + omega_m3*cos(phi_m)*cos(theta_m)) + I_Mz*((sin(phi_m)*cos(psi_m) + sin(psi_m)*sin(theta_m)*cos(phi_m))*omega_m3 + (-sin(phi_m)*sin(psi_m)*sin(theta_m) + cos(phi_m)*cos(psi_m))*omega_m2 - omega_m1*sin(psi_m)*cos(theta_m))*(omega_m1*sin(theta_m) - omega_m2*sin(phi_m)*cos(theta_m) + omega_m3*cos(phi_m)*cos(theta_m)))*cos(psi_m)*cos(theta_m) - (I_Mx*cos(psi_m)**2*cos(theta_m)**2 + I_My*sin(psi_m)**2*cos(theta_m)**2 + I_Mz*sin(theta_m)**2)*omega_m1' - (I_Mx*(sin(phi_m)*sin(psi_m) - sin(theta_m)*cos(phi_m)*cos(psi_m))*cos(psi_m)*cos(theta_m) - I_My*(sin(phi_m)*cos(psi_m) + sin(psi_m)*sin(theta_m)*cos(phi_m))*sin(psi_m)*cos(theta_m) + I_Mz*sin(theta_m)*cos(phi_m)*cos(theta_m))*omega_m3' - (I_Mx*(sin(phi_m)*sin(theta_m)*cos(psi_m) + sin(psi_m)*cos(phi_m))*cos(psi_m)*cos(theta_m) - I_My*(-sin(phi_m)*sin(psi_m)*sin(theta_m) + cos(phi_m)*cos(psi_m))*sin(psi_m)*cos(theta_m) - I_Mz*sin(phi_m)*sin(theta_m)*cos(theta_m))*omega_m2'],\n",
       "[(-I_Mx*((sin(phi_m)*sin(psi_m) - sin(theta_m)*cos(phi_m)*cos(psi_m))*omega_m3 + (sin(phi_m)*sin(theta_m)*cos(psi_m) + sin(psi_m)*cos(phi_m))*omega_m2 + omega_m1*cos(psi_m)*cos(theta_m))*((sin(phi_m)*cos(psi_m) + sin(psi_m)*sin(theta_m)*cos(phi_m))*omega_m3 + (-sin(phi_m)*sin(psi_m)*sin(theta_m) + cos(phi_m)*cos(psi_m))*omega_m2 - omega_m1*sin(psi_m)*cos(theta_m)) + I_My*((sin(phi_m)*sin(psi_m) - sin(theta_m)*cos(phi_m)*cos(psi_m))*omega_m3 + (sin(phi_m)*sin(theta_m)*cos(psi_m) + sin(psi_m)*cos(phi_m))*omega_m2 + omega_m1*cos(psi_m)*cos(theta_m))*((sin(phi_m)*cos(psi_m) + sin(psi_m)*sin(theta_m)*cos(phi_m))*omega_m3 + (-sin(phi_m)*sin(psi_m)*sin(theta_m) + cos(phi_m)*cos(psi_m))*omega_m2 - omega_m1*sin(psi_m)*cos(theta_m)))*sin(phi_m)*cos(theta_m) - (I_Mx*((sin(phi_m)*sin(psi_m) - sin(theta_m)*cos(phi_m)*cos(psi_m))*omega_m3 + (sin(phi_m)*sin(theta_m)*cos(psi_m) + sin(psi_m)*cos(phi_m))*omega_m2 + omega_m1*cos(psi_m)*cos(theta_m))*(omega_m1*sin(theta_m) - omega_m2*sin(phi_m)*cos(theta_m) + omega_m3*cos(phi_m)*cos(theta_m)) - I_Mz*((sin(phi_m)*sin(psi_m) - sin(theta_m)*cos(phi_m)*cos(psi_m))*omega_m3 + (sin(phi_m)*sin(theta_m)*cos(psi_m) + sin(psi_m)*cos(phi_m))*omega_m2 + omega_m1*cos(psi_m)*cos(theta_m))*(omega_m1*sin(theta_m) - omega_m2*sin(phi_m)*cos(theta_m) + omega_m3*cos(phi_m)*cos(theta_m)))*(-sin(phi_m)*sin(psi_m)*sin(theta_m) + cos(phi_m)*cos(psi_m)) - (-I_My*((sin(phi_m)*cos(psi_m) + sin(psi_m)*sin(theta_m)*cos(phi_m))*omega_m3 + (-sin(phi_m)*sin(psi_m)*sin(theta_m) + cos(phi_m)*cos(psi_m))*omega_m2 - omega_m1*sin(psi_m)*cos(theta_m))*(omega_m1*sin(theta_m) - omega_m2*sin(phi_m)*cos(theta_m) + omega_m3*cos(phi_m)*cos(theta_m)) + I_Mz*((sin(phi_m)*cos(psi_m) + sin(psi_m)*sin(theta_m)*cos(phi_m))*omega_m3 + (-sin(phi_m)*sin(psi_m)*sin(theta_m) + cos(phi_m)*cos(psi_m))*omega_m2 - omega_m1*sin(psi_m)*cos(theta_m))*(omega_m1*sin(theta_m) - omega_m2*sin(phi_m)*cos(theta_m) + omega_m3*cos(phi_m)*cos(theta_m)))*(sin(phi_m)*sin(theta_m)*cos(psi_m) + sin(psi_m)*cos(phi_m)) - (I_Mx*(sin(phi_m)*sin(theta_m)*cos(psi_m) + sin(psi_m)*cos(phi_m))**2 + I_My*(-sin(phi_m)*sin(psi_m)*sin(theta_m) + cos(phi_m)*cos(psi_m))**2 + I_Mz*sin(phi_m)**2*cos(theta_m)**2)*omega_m2' - (I_Mx*(sin(phi_m)*sin(psi_m) - sin(theta_m)*cos(phi_m)*cos(psi_m))*(sin(phi_m)*sin(theta_m)*cos(psi_m) + sin(psi_m)*cos(phi_m)) + I_My*(sin(phi_m)*cos(psi_m) + sin(psi_m)*sin(theta_m)*cos(phi_m))*(-sin(phi_m)*sin(psi_m)*sin(theta_m) + cos(phi_m)*cos(psi_m)) - I_Mz*sin(phi_m)*cos(phi_m)*cos(theta_m)**2)*omega_m3' - (I_Mx*(sin(phi_m)*sin(theta_m)*cos(psi_m) + sin(psi_m)*cos(phi_m))*cos(psi_m)*cos(theta_m) - I_My*(-sin(phi_m)*sin(psi_m)*sin(theta_m) + cos(phi_m)*cos(psi_m))*sin(psi_m)*cos(theta_m) - I_Mz*sin(phi_m)*sin(theta_m)*cos(theta_m))*omega_m1'],\n",
       "[  -(sin(phi_m)*sin(psi_m) - sin(theta_m)*cos(phi_m)*cos(psi_m))*(-I_My*((sin(phi_m)*cos(psi_m) + sin(psi_m)*sin(theta_m)*cos(phi_m))*omega_m3 + (-sin(phi_m)*sin(psi_m)*sin(theta_m) + cos(phi_m)*cos(psi_m))*omega_m2 - omega_m1*sin(psi_m)*cos(theta_m))*(omega_m1*sin(theta_m) - omega_m2*sin(phi_m)*cos(theta_m) + omega_m3*cos(phi_m)*cos(theta_m)) + I_Mz*((sin(phi_m)*cos(psi_m) + sin(psi_m)*sin(theta_m)*cos(phi_m))*omega_m3 + (-sin(phi_m)*sin(psi_m)*sin(theta_m) + cos(phi_m)*cos(psi_m))*omega_m2 - omega_m1*sin(psi_m)*cos(theta_m))*(omega_m1*sin(theta_m) - omega_m2*sin(phi_m)*cos(theta_m) + omega_m3*cos(phi_m)*cos(theta_m))) - (sin(phi_m)*cos(psi_m) + sin(psi_m)*sin(theta_m)*cos(phi_m))*(I_Mx*((sin(phi_m)*sin(psi_m) - sin(theta_m)*cos(phi_m)*cos(psi_m))*omega_m3 + (sin(phi_m)*sin(theta_m)*cos(psi_m) + sin(psi_m)*cos(phi_m))*omega_m2 + omega_m1*cos(psi_m)*cos(theta_m))*(omega_m1*sin(theta_m) - omega_m2*sin(phi_m)*cos(theta_m) + omega_m3*cos(phi_m)*cos(theta_m)) - I_Mz*((sin(phi_m)*sin(psi_m) - sin(theta_m)*cos(phi_m)*cos(psi_m))*omega_m3 + (sin(phi_m)*sin(theta_m)*cos(psi_m) + sin(psi_m)*cos(phi_m))*omega_m2 + omega_m1*cos(psi_m)*cos(theta_m))*(omega_m1*sin(theta_m) - omega_m2*sin(phi_m)*cos(theta_m) + omega_m3*cos(phi_m)*cos(theta_m))) - (-I_Mx*((sin(phi_m)*sin(psi_m) - sin(theta_m)*cos(phi_m)*cos(psi_m))*omega_m3 + (sin(phi_m)*sin(theta_m)*cos(psi_m) + sin(psi_m)*cos(phi_m))*omega_m2 + omega_m1*cos(psi_m)*cos(theta_m))*((sin(phi_m)*cos(psi_m) + sin(psi_m)*sin(theta_m)*cos(phi_m))*omega_m3 + (-sin(phi_m)*sin(psi_m)*sin(theta_m) + cos(phi_m)*cos(psi_m))*omega_m2 - omega_m1*sin(psi_m)*cos(theta_m)) + I_My*((sin(phi_m)*sin(psi_m) - sin(theta_m)*cos(phi_m)*cos(psi_m))*omega_m3 + (sin(phi_m)*sin(theta_m)*cos(psi_m) + sin(psi_m)*cos(phi_m))*omega_m2 + omega_m1*cos(psi_m)*cos(theta_m))*((sin(phi_m)*cos(psi_m) + sin(psi_m)*sin(theta_m)*cos(phi_m))*omega_m3 + (-sin(phi_m)*sin(psi_m)*sin(theta_m) + cos(phi_m)*cos(psi_m))*omega_m2 - omega_m1*sin(psi_m)*cos(theta_m)))*cos(phi_m)*cos(theta_m) - (I_Mx*(sin(phi_m)*sin(psi_m) - sin(theta_m)*cos(phi_m)*cos(psi_m))**2 + I_My*(sin(phi_m)*cos(psi_m) + sin(psi_m)*sin(theta_m)*cos(phi_m))**2 + I_Mz*cos(phi_m)**2*cos(theta_m)**2)*omega_m3' - (I_Mx*(sin(phi_m)*sin(psi_m) - sin(theta_m)*cos(phi_m)*cos(psi_m))*(sin(phi_m)*sin(theta_m)*cos(psi_m) + sin(psi_m)*cos(phi_m)) + I_My*(sin(phi_m)*cos(psi_m) + sin(psi_m)*sin(theta_m)*cos(phi_m))*(-sin(phi_m)*sin(psi_m)*sin(theta_m) + cos(phi_m)*cos(psi_m)) - I_Mz*sin(phi_m)*cos(phi_m)*cos(theta_m)**2)*omega_m2' - (I_Mx*(sin(phi_m)*sin(psi_m) - sin(theta_m)*cos(phi_m)*cos(psi_m))*cos(psi_m)*cos(theta_m) - I_My*(sin(phi_m)*cos(psi_m) + sin(psi_m)*sin(theta_m)*cos(phi_m))*sin(psi_m)*cos(theta_m) + I_Mz*sin(theta_m)*cos(phi_m)*cos(theta_m))*omega_m1']])"
      ]
     },
     "execution_count": 35,
     "metadata": {},
     "output_type": "execute_result"
    }
   ],
   "source": [
    "frstar"
   ]
  },
  {
   "cell_type": "code",
   "execution_count": 36,
   "metadata": {
    "collapsed": false
   },
   "outputs": [
    {
     "data": {
      "text/latex": [
       "$$\\left[\\begin{matrix}m_{m} & 0 & 0 & 0 & 0 & 0\\\\0 & m_{m} & 0 & 0 & 0 & 0\\\\0 & 0 & m_{m} & 0 & 0 & 0\\\\0 & 0 & 0 & I_{Mx} \\operatorname{cos}^{2}\\left(\\psi_{m}\\right) \\operatorname{cos}^{2}\\left(\\theta_{m}\\right) + I_{My} \\operatorname{sin}^{2}\\left(\\psi_{m}\\right) \\operatorname{cos}^{2}\\left(\\theta_{m}\\right) + I_{Mz} \\operatorname{sin}^{2}\\left(\\theta_{m}\\right) & I_{Mx} \\left(\\operatorname{sin}\\left(\\phi_{m}\\right) \\operatorname{sin}\\left(\\theta_{m}\\right) \\operatorname{cos}\\left(\\psi_{m}\\right) + \\operatorname{sin}\\left(\\psi_{m}\\right) \\operatorname{cos}\\left(\\phi_{m}\\right)\\right) \\operatorname{cos}\\left(\\psi_{m}\\right) \\operatorname{cos}\\left(\\theta_{m}\\right) - I_{My} \\left(- \\operatorname{sin}\\left(\\phi_{m}\\right) \\operatorname{sin}\\left(\\psi_{m}\\right) \\operatorname{sin}\\left(\\theta_{m}\\right) + \\operatorname{cos}\\left(\\phi_{m}\\right) \\operatorname{cos}\\left(\\psi_{m}\\right)\\right) \\operatorname{sin}\\left(\\psi_{m}\\right) \\operatorname{cos}\\left(\\theta_{m}\\right) - I_{Mz} \\operatorname{sin}\\left(\\phi_{m}\\right) \\operatorname{sin}\\left(\\theta_{m}\\right) \\operatorname{cos}\\left(\\theta_{m}\\right) & I_{Mx} \\left(\\operatorname{sin}\\left(\\phi_{m}\\right) \\operatorname{sin}\\left(\\psi_{m}\\right) - \\operatorname{sin}\\left(\\theta_{m}\\right) \\operatorname{cos}\\left(\\phi_{m}\\right) \\operatorname{cos}\\left(\\psi_{m}\\right)\\right) \\operatorname{cos}\\left(\\psi_{m}\\right) \\operatorname{cos}\\left(\\theta_{m}\\right) - I_{My} \\left(\\operatorname{sin}\\left(\\phi_{m}\\right) \\operatorname{cos}\\left(\\psi_{m}\\right) + \\operatorname{sin}\\left(\\psi_{m}\\right) \\operatorname{sin}\\left(\\theta_{m}\\right) \\operatorname{cos}\\left(\\phi_{m}\\right)\\right) \\operatorname{sin}\\left(\\psi_{m}\\right) \\operatorname{cos}\\left(\\theta_{m}\\right) + I_{Mz} \\operatorname{sin}\\left(\\theta_{m}\\right) \\operatorname{cos}\\left(\\phi_{m}\\right) \\operatorname{cos}\\left(\\theta_{m}\\right)\\\\0 & 0 & 0 & I_{Mx} \\left(\\operatorname{sin}\\left(\\phi_{m}\\right) \\operatorname{sin}\\left(\\theta_{m}\\right) \\operatorname{cos}\\left(\\psi_{m}\\right) + \\operatorname{sin}\\left(\\psi_{m}\\right) \\operatorname{cos}\\left(\\phi_{m}\\right)\\right) \\operatorname{cos}\\left(\\psi_{m}\\right) \\operatorname{cos}\\left(\\theta_{m}\\right) - I_{My} \\left(- \\operatorname{sin}\\left(\\phi_{m}\\right) \\operatorname{sin}\\left(\\psi_{m}\\right) \\operatorname{sin}\\left(\\theta_{m}\\right) + \\operatorname{cos}\\left(\\phi_{m}\\right) \\operatorname{cos}\\left(\\psi_{m}\\right)\\right) \\operatorname{sin}\\left(\\psi_{m}\\right) \\operatorname{cos}\\left(\\theta_{m}\\right) - I_{Mz} \\operatorname{sin}\\left(\\phi_{m}\\right) \\operatorname{sin}\\left(\\theta_{m}\\right) \\operatorname{cos}\\left(\\theta_{m}\\right) & I_{Mx} \\left(\\operatorname{sin}\\left(\\phi_{m}\\right) \\operatorname{sin}\\left(\\theta_{m}\\right) \\operatorname{cos}\\left(\\psi_{m}\\right) + \\operatorname{sin}\\left(\\psi_{m}\\right) \\operatorname{cos}\\left(\\phi_{m}\\right)\\right)^{2} + I_{My} \\left(- \\operatorname{sin}\\left(\\phi_{m}\\right) \\operatorname{sin}\\left(\\psi_{m}\\right) \\operatorname{sin}\\left(\\theta_{m}\\right) + \\operatorname{cos}\\left(\\phi_{m}\\right) \\operatorname{cos}\\left(\\psi_{m}\\right)\\right)^{2} + I_{Mz} \\operatorname{sin}^{2}\\left(\\phi_{m}\\right) \\operatorname{cos}^{2}\\left(\\theta_{m}\\right) & I_{Mx} \\left(\\operatorname{sin}\\left(\\phi_{m}\\right) \\operatorname{sin}\\left(\\psi_{m}\\right) - \\operatorname{sin}\\left(\\theta_{m}\\right) \\operatorname{cos}\\left(\\phi_{m}\\right) \\operatorname{cos}\\left(\\psi_{m}\\right)\\right) \\left(\\operatorname{sin}\\left(\\phi_{m}\\right) \\operatorname{sin}\\left(\\theta_{m}\\right) \\operatorname{cos}\\left(\\psi_{m}\\right) + \\operatorname{sin}\\left(\\psi_{m}\\right) \\operatorname{cos}\\left(\\phi_{m}\\right)\\right) + I_{My} \\left(\\operatorname{sin}\\left(\\phi_{m}\\right) \\operatorname{cos}\\left(\\psi_{m}\\right) + \\operatorname{sin}\\left(\\psi_{m}\\right) \\operatorname{sin}\\left(\\theta_{m}\\right) \\operatorname{cos}\\left(\\phi_{m}\\right)\\right) \\left(- \\operatorname{sin}\\left(\\phi_{m}\\right) \\operatorname{sin}\\left(\\psi_{m}\\right) \\operatorname{sin}\\left(\\theta_{m}\\right) + \\operatorname{cos}\\left(\\phi_{m}\\right) \\operatorname{cos}\\left(\\psi_{m}\\right)\\right) - I_{Mz} \\operatorname{sin}\\left(\\phi_{m}\\right) \\operatorname{cos}\\left(\\phi_{m}\\right) \\operatorname{cos}^{2}\\left(\\theta_{m}\\right)\\\\0 & 0 & 0 & I_{Mx} \\left(\\operatorname{sin}\\left(\\phi_{m}\\right) \\operatorname{sin}\\left(\\psi_{m}\\right) - \\operatorname{sin}\\left(\\theta_{m}\\right) \\operatorname{cos}\\left(\\phi_{m}\\right) \\operatorname{cos}\\left(\\psi_{m}\\right)\\right) \\operatorname{cos}\\left(\\psi_{m}\\right) \\operatorname{cos}\\left(\\theta_{m}\\right) - I_{My} \\left(\\operatorname{sin}\\left(\\phi_{m}\\right) \\operatorname{cos}\\left(\\psi_{m}\\right) + \\operatorname{sin}\\left(\\psi_{m}\\right) \\operatorname{sin}\\left(\\theta_{m}\\right) \\operatorname{cos}\\left(\\phi_{m}\\right)\\right) \\operatorname{sin}\\left(\\psi_{m}\\right) \\operatorname{cos}\\left(\\theta_{m}\\right) + I_{Mz} \\operatorname{sin}\\left(\\theta_{m}\\right) \\operatorname{cos}\\left(\\phi_{m}\\right) \\operatorname{cos}\\left(\\theta_{m}\\right) & I_{Mx} \\left(\\operatorname{sin}\\left(\\phi_{m}\\right) \\operatorname{sin}\\left(\\psi_{m}\\right) - \\operatorname{sin}\\left(\\theta_{m}\\right) \\operatorname{cos}\\left(\\phi_{m}\\right) \\operatorname{cos}\\left(\\psi_{m}\\right)\\right) \\left(\\operatorname{sin}\\left(\\phi_{m}\\right) \\operatorname{sin}\\left(\\theta_{m}\\right) \\operatorname{cos}\\left(\\psi_{m}\\right) + \\operatorname{sin}\\left(\\psi_{m}\\right) \\operatorname{cos}\\left(\\phi_{m}\\right)\\right) + I_{My} \\left(\\operatorname{sin}\\left(\\phi_{m}\\right) \\operatorname{cos}\\left(\\psi_{m}\\right) + \\operatorname{sin}\\left(\\psi_{m}\\right) \\operatorname{sin}\\left(\\theta_{m}\\right) \\operatorname{cos}\\left(\\phi_{m}\\right)\\right) \\left(- \\operatorname{sin}\\left(\\phi_{m}\\right) \\operatorname{sin}\\left(\\psi_{m}\\right) \\operatorname{sin}\\left(\\theta_{m}\\right) + \\operatorname{cos}\\left(\\phi_{m}\\right) \\operatorname{cos}\\left(\\psi_{m}\\right)\\right) - I_{Mz} \\operatorname{sin}\\left(\\phi_{m}\\right) \\operatorname{cos}\\left(\\phi_{m}\\right) \\operatorname{cos}^{2}\\left(\\theta_{m}\\right) & I_{Mx} \\left(\\operatorname{sin}\\left(\\phi_{m}\\right) \\operatorname{sin}\\left(\\psi_{m}\\right) - \\operatorname{sin}\\left(\\theta_{m}\\right) \\operatorname{cos}\\left(\\phi_{m}\\right) \\operatorname{cos}\\left(\\psi_{m}\\right)\\right)^{2} + I_{My} \\left(\\operatorname{sin}\\left(\\phi_{m}\\right) \\operatorname{cos}\\left(\\psi_{m}\\right) + \\operatorname{sin}\\left(\\psi_{m}\\right) \\operatorname{sin}\\left(\\theta_{m}\\right) \\operatorname{cos}\\left(\\phi_{m}\\right)\\right)^{2} + I_{Mz} \\operatorname{cos}^{2}\\left(\\phi_{m}\\right) \\operatorname{cos}^{2}\\left(\\theta_{m}\\right)\\end{matrix}\\right]$$"
      ],
      "text/plain": [
       "Matrix([\n",
       "[m_m,   0,   0,                                                                                                                                                                                                                                  0,                                                                                                                                                                                                                                                                                                             0,                                                                                                                                                                                                                                                                                                             0],\n",
       "[  0, m_m,   0,                                                                                                                                                                                                                                  0,                                                                                                                                                                                                                                                                                                             0,                                                                                                                                                                                                                                                                                                             0],\n",
       "[  0,   0, m_m,                                                                                                                                                                                                                                  0,                                                                                                                                                                                                                                                                                                             0,                                                                                                                                                                                                                                                                                                             0],\n",
       "[  0,   0,   0,                                                                                                                                     I_Mx*cos(psi_m)**2*cos(theta_m)**2 + I_My*sin(psi_m)**2*cos(theta_m)**2 + I_Mz*sin(theta_m)**2,                                                                            I_Mx*(sin(phi_m)*sin(theta_m)*cos(psi_m) + sin(psi_m)*cos(phi_m))*cos(psi_m)*cos(theta_m) - I_My*(-sin(phi_m)*sin(psi_m)*sin(theta_m) + cos(phi_m)*cos(psi_m))*sin(psi_m)*cos(theta_m) - I_Mz*sin(phi_m)*sin(theta_m)*cos(theta_m),                                                                             I_Mx*(sin(phi_m)*sin(psi_m) - sin(theta_m)*cos(phi_m)*cos(psi_m))*cos(psi_m)*cos(theta_m) - I_My*(sin(phi_m)*cos(psi_m) + sin(psi_m)*sin(theta_m)*cos(phi_m))*sin(psi_m)*cos(theta_m) + I_Mz*sin(theta_m)*cos(phi_m)*cos(theta_m)],\n",
       "[  0,   0,   0, I_Mx*(sin(phi_m)*sin(theta_m)*cos(psi_m) + sin(psi_m)*cos(phi_m))*cos(psi_m)*cos(theta_m) - I_My*(-sin(phi_m)*sin(psi_m)*sin(theta_m) + cos(phi_m)*cos(psi_m))*sin(psi_m)*cos(theta_m) - I_Mz*sin(phi_m)*sin(theta_m)*cos(theta_m),                                                                                                                             I_Mx*(sin(phi_m)*sin(theta_m)*cos(psi_m) + sin(psi_m)*cos(phi_m))**2 + I_My*(-sin(phi_m)*sin(psi_m)*sin(theta_m) + cos(phi_m)*cos(psi_m))**2 + I_Mz*sin(phi_m)**2*cos(theta_m)**2, I_Mx*(sin(phi_m)*sin(psi_m) - sin(theta_m)*cos(phi_m)*cos(psi_m))*(sin(phi_m)*sin(theta_m)*cos(psi_m) + sin(psi_m)*cos(phi_m)) + I_My*(sin(phi_m)*cos(psi_m) + sin(psi_m)*sin(theta_m)*cos(phi_m))*(-sin(phi_m)*sin(psi_m)*sin(theta_m) + cos(phi_m)*cos(psi_m)) - I_Mz*sin(phi_m)*cos(phi_m)*cos(theta_m)**2],\n",
       "[  0,   0,   0,  I_Mx*(sin(phi_m)*sin(psi_m) - sin(theta_m)*cos(phi_m)*cos(psi_m))*cos(psi_m)*cos(theta_m) - I_My*(sin(phi_m)*cos(psi_m) + sin(psi_m)*sin(theta_m)*cos(phi_m))*sin(psi_m)*cos(theta_m) + I_Mz*sin(theta_m)*cos(phi_m)*cos(theta_m), I_Mx*(sin(phi_m)*sin(psi_m) - sin(theta_m)*cos(phi_m)*cos(psi_m))*(sin(phi_m)*sin(theta_m)*cos(psi_m) + sin(psi_m)*cos(phi_m)) + I_My*(sin(phi_m)*cos(psi_m) + sin(psi_m)*sin(theta_m)*cos(phi_m))*(-sin(phi_m)*sin(psi_m)*sin(theta_m) + cos(phi_m)*cos(psi_m)) - I_Mz*sin(phi_m)*cos(phi_m)*cos(theta_m)**2,                                                                                                                              I_Mx*(sin(phi_m)*sin(psi_m) - sin(theta_m)*cos(phi_m)*cos(psi_m))**2 + I_My*(sin(phi_m)*cos(psi_m) + sin(psi_m)*sin(theta_m)*cos(phi_m))**2 + I_Mz*cos(phi_m)**2*cos(theta_m)**2]])"
      ]
     },
     "execution_count": 36,
     "metadata": {},
     "output_type": "execute_result"
    }
   ],
   "source": [
    "mass_matrix = kane.mass_matrix\n",
    "mass_matrix"
   ]
  },
  {
   "cell_type": "code",
   "execution_count": 37,
   "metadata": {
    "collapsed": false
   },
   "outputs": [
    {
     "data": {
      "text/latex": [
       "$$\\left[\\begin{matrix}0\\\\0\\\\- g m_{m}\\\\- \\left(- I_{Mx} \\left(\\left(\\operatorname{sin}\\left(\\phi_{m}\\right) \\operatorname{sin}\\left(\\psi_{m}\\right) - \\operatorname{sin}\\left(\\theta_{m}\\right) \\operatorname{cos}\\left(\\phi_{m}\\right) \\operatorname{cos}\\left(\\psi_{m}\\right)\\right) \\omega_{m3} + \\left(\\operatorname{sin}\\left(\\phi_{m}\\right) \\operatorname{sin}\\left(\\theta_{m}\\right) \\operatorname{cos}\\left(\\psi_{m}\\right) + \\operatorname{sin}\\left(\\psi_{m}\\right) \\operatorname{cos}\\left(\\phi_{m}\\right)\\right) \\omega_{m2} + \\omega_{m1} \\operatorname{cos}\\left(\\psi_{m}\\right) \\operatorname{cos}\\left(\\theta_{m}\\right)\\right) \\left(\\left(\\operatorname{sin}\\left(\\phi_{m}\\right) \\operatorname{cos}\\left(\\psi_{m}\\right) + \\operatorname{sin}\\left(\\psi_{m}\\right) \\operatorname{sin}\\left(\\theta_{m}\\right) \\operatorname{cos}\\left(\\phi_{m}\\right)\\right) \\omega_{m3} + \\left(- \\operatorname{sin}\\left(\\phi_{m}\\right) \\operatorname{sin}\\left(\\psi_{m}\\right) \\operatorname{sin}\\left(\\theta_{m}\\right) + \\operatorname{cos}\\left(\\phi_{m}\\right) \\operatorname{cos}\\left(\\psi_{m}\\right)\\right) \\omega_{m2} - \\omega_{m1} \\operatorname{sin}\\left(\\psi_{m}\\right) \\operatorname{cos}\\left(\\theta_{m}\\right)\\right) + I_{My} \\left(\\left(\\operatorname{sin}\\left(\\phi_{m}\\right) \\operatorname{sin}\\left(\\psi_{m}\\right) - \\operatorname{sin}\\left(\\theta_{m}\\right) \\operatorname{cos}\\left(\\phi_{m}\\right) \\operatorname{cos}\\left(\\psi_{m}\\right)\\right) \\omega_{m3} + \\left(\\operatorname{sin}\\left(\\phi_{m}\\right) \\operatorname{sin}\\left(\\theta_{m}\\right) \\operatorname{cos}\\left(\\psi_{m}\\right) + \\operatorname{sin}\\left(\\psi_{m}\\right) \\operatorname{cos}\\left(\\phi_{m}\\right)\\right) \\omega_{m2} + \\omega_{m1} \\operatorname{cos}\\left(\\psi_{m}\\right) \\operatorname{cos}\\left(\\theta_{m}\\right)\\right) \\left(\\left(\\operatorname{sin}\\left(\\phi_{m}\\right) \\operatorname{cos}\\left(\\psi_{m}\\right) + \\operatorname{sin}\\left(\\psi_{m}\\right) \\operatorname{sin}\\left(\\theta_{m}\\right) \\operatorname{cos}\\left(\\phi_{m}\\right)\\right) \\omega_{m3} + \\left(- \\operatorname{sin}\\left(\\phi_{m}\\right) \\operatorname{sin}\\left(\\psi_{m}\\right) \\operatorname{sin}\\left(\\theta_{m}\\right) + \\operatorname{cos}\\left(\\phi_{m}\\right) \\operatorname{cos}\\left(\\psi_{m}\\right)\\right) \\omega_{m2} - \\omega_{m1} \\operatorname{sin}\\left(\\psi_{m}\\right) \\operatorname{cos}\\left(\\theta_{m}\\right)\\right)\\right) \\operatorname{sin}\\left(\\theta_{m}\\right) + \\left(I_{Mx} \\left(\\left(\\operatorname{sin}\\left(\\phi_{m}\\right) \\operatorname{sin}\\left(\\psi_{m}\\right) - \\operatorname{sin}\\left(\\theta_{m}\\right) \\operatorname{cos}\\left(\\phi_{m}\\right) \\operatorname{cos}\\left(\\psi_{m}\\right)\\right) \\omega_{m3} + \\left(\\operatorname{sin}\\left(\\phi_{m}\\right) \\operatorname{sin}\\left(\\theta_{m}\\right) \\operatorname{cos}\\left(\\psi_{m}\\right) + \\operatorname{sin}\\left(\\psi_{m}\\right) \\operatorname{cos}\\left(\\phi_{m}\\right)\\right) \\omega_{m2} + \\omega_{m1} \\operatorname{cos}\\left(\\psi_{m}\\right) \\operatorname{cos}\\left(\\theta_{m}\\right)\\right) \\left(\\omega_{m1} \\operatorname{sin}\\left(\\theta_{m}\\right) - \\omega_{m2} \\operatorname{sin}\\left(\\phi_{m}\\right) \\operatorname{cos}\\left(\\theta_{m}\\right) + \\omega_{m3} \\operatorname{cos}\\left(\\phi_{m}\\right) \\operatorname{cos}\\left(\\theta_{m}\\right)\\right) - I_{Mz} \\left(\\left(\\operatorname{sin}\\left(\\phi_{m}\\right) \\operatorname{sin}\\left(\\psi_{m}\\right) - \\operatorname{sin}\\left(\\theta_{m}\\right) \\operatorname{cos}\\left(\\phi_{m}\\right) \\operatorname{cos}\\left(\\psi_{m}\\right)\\right) \\omega_{m3} + \\left(\\operatorname{sin}\\left(\\phi_{m}\\right) \\operatorname{sin}\\left(\\theta_{m}\\right) \\operatorname{cos}\\left(\\psi_{m}\\right) + \\operatorname{sin}\\left(\\psi_{m}\\right) \\operatorname{cos}\\left(\\phi_{m}\\right)\\right) \\omega_{m2} + \\omega_{m1} \\operatorname{cos}\\left(\\psi_{m}\\right) \\operatorname{cos}\\left(\\theta_{m}\\right)\\right) \\left(\\omega_{m1} \\operatorname{sin}\\left(\\theta_{m}\\right) - \\omega_{m2} \\operatorname{sin}\\left(\\phi_{m}\\right) \\operatorname{cos}\\left(\\theta_{m}\\right) + \\omega_{m3} \\operatorname{cos}\\left(\\phi_{m}\\right) \\operatorname{cos}\\left(\\theta_{m}\\right)\\right)\\right) \\operatorname{sin}\\left(\\psi_{m}\\right) \\operatorname{cos}\\left(\\theta_{m}\\right) - \\left(- I_{My} \\left(\\left(\\operatorname{sin}\\left(\\phi_{m}\\right) \\operatorname{cos}\\left(\\psi_{m}\\right) + \\operatorname{sin}\\left(\\psi_{m}\\right) \\operatorname{sin}\\left(\\theta_{m}\\right) \\operatorname{cos}\\left(\\phi_{m}\\right)\\right) \\omega_{m3} + \\left(- \\operatorname{sin}\\left(\\phi_{m}\\right) \\operatorname{sin}\\left(\\psi_{m}\\right) \\operatorname{sin}\\left(\\theta_{m}\\right) + \\operatorname{cos}\\left(\\phi_{m}\\right) \\operatorname{cos}\\left(\\psi_{m}\\right)\\right) \\omega_{m2} - \\omega_{m1} \\operatorname{sin}\\left(\\psi_{m}\\right) \\operatorname{cos}\\left(\\theta_{m}\\right)\\right) \\left(\\omega_{m1} \\operatorname{sin}\\left(\\theta_{m}\\right) - \\omega_{m2} \\operatorname{sin}\\left(\\phi_{m}\\right) \\operatorname{cos}\\left(\\theta_{m}\\right) + \\omega_{m3} \\operatorname{cos}\\left(\\phi_{m}\\right) \\operatorname{cos}\\left(\\theta_{m}\\right)\\right) + I_{Mz} \\left(\\left(\\operatorname{sin}\\left(\\phi_{m}\\right) \\operatorname{cos}\\left(\\psi_{m}\\right) + \\operatorname{sin}\\left(\\psi_{m}\\right) \\operatorname{sin}\\left(\\theta_{m}\\right) \\operatorname{cos}\\left(\\phi_{m}\\right)\\right) \\omega_{m3} + \\left(- \\operatorname{sin}\\left(\\phi_{m}\\right) \\operatorname{sin}\\left(\\psi_{m}\\right) \\operatorname{sin}\\left(\\theta_{m}\\right) + \\operatorname{cos}\\left(\\phi_{m}\\right) \\operatorname{cos}\\left(\\psi_{m}\\right)\\right) \\omega_{m2} - \\omega_{m1} \\operatorname{sin}\\left(\\psi_{m}\\right) \\operatorname{cos}\\left(\\theta_{m}\\right)\\right) \\left(\\omega_{m1} \\operatorname{sin}\\left(\\theta_{m}\\right) - \\omega_{m2} \\operatorname{sin}\\left(\\phi_{m}\\right) \\operatorname{cos}\\left(\\theta_{m}\\right) + \\omega_{m3} \\operatorname{cos}\\left(\\phi_{m}\\right) \\operatorname{cos}\\left(\\theta_{m}\\right)\\right)\\right) \\operatorname{cos}\\left(\\psi_{m}\\right) \\operatorname{cos}\\left(\\theta_{m}\\right) + F_{m} \\operatorname{cos}\\left(\\psi_{m}\\right) \\operatorname{cos}\\left(\\theta_{m}\\right) - T_{m} \\operatorname{sin}\\left(\\psi_{m}\\right) \\operatorname{cos}\\left(\\theta_{m}\\right)\\\\\\left(- I_{Mx} \\left(\\left(\\operatorname{sin}\\left(\\phi_{m}\\right) \\operatorname{sin}\\left(\\psi_{m}\\right) - \\operatorname{sin}\\left(\\theta_{m}\\right) \\operatorname{cos}\\left(\\phi_{m}\\right) \\operatorname{cos}\\left(\\psi_{m}\\right)\\right) \\omega_{m3} + \\left(\\operatorname{sin}\\left(\\phi_{m}\\right) \\operatorname{sin}\\left(\\theta_{m}\\right) \\operatorname{cos}\\left(\\psi_{m}\\right) + \\operatorname{sin}\\left(\\psi_{m}\\right) \\operatorname{cos}\\left(\\phi_{m}\\right)\\right) \\omega_{m2} + \\omega_{m1} \\operatorname{cos}\\left(\\psi_{m}\\right) \\operatorname{cos}\\left(\\theta_{m}\\right)\\right) \\left(\\left(\\operatorname{sin}\\left(\\phi_{m}\\right) \\operatorname{cos}\\left(\\psi_{m}\\right) + \\operatorname{sin}\\left(\\psi_{m}\\right) \\operatorname{sin}\\left(\\theta_{m}\\right) \\operatorname{cos}\\left(\\phi_{m}\\right)\\right) \\omega_{m3} + \\left(- \\operatorname{sin}\\left(\\phi_{m}\\right) \\operatorname{sin}\\left(\\psi_{m}\\right) \\operatorname{sin}\\left(\\theta_{m}\\right) + \\operatorname{cos}\\left(\\phi_{m}\\right) \\operatorname{cos}\\left(\\psi_{m}\\right)\\right) \\omega_{m2} - \\omega_{m1} \\operatorname{sin}\\left(\\psi_{m}\\right) \\operatorname{cos}\\left(\\theta_{m}\\right)\\right) + I_{My} \\left(\\left(\\operatorname{sin}\\left(\\phi_{m}\\right) \\operatorname{sin}\\left(\\psi_{m}\\right) - \\operatorname{sin}\\left(\\theta_{m}\\right) \\operatorname{cos}\\left(\\phi_{m}\\right) \\operatorname{cos}\\left(\\psi_{m}\\right)\\right) \\omega_{m3} + \\left(\\operatorname{sin}\\left(\\phi_{m}\\right) \\operatorname{sin}\\left(\\theta_{m}\\right) \\operatorname{cos}\\left(\\psi_{m}\\right) + \\operatorname{sin}\\left(\\psi_{m}\\right) \\operatorname{cos}\\left(\\phi_{m}\\right)\\right) \\omega_{m2} + \\omega_{m1} \\operatorname{cos}\\left(\\psi_{m}\\right) \\operatorname{cos}\\left(\\theta_{m}\\right)\\right) \\left(\\left(\\operatorname{sin}\\left(\\phi_{m}\\right) \\operatorname{cos}\\left(\\psi_{m}\\right) + \\operatorname{sin}\\left(\\psi_{m}\\right) \\operatorname{sin}\\left(\\theta_{m}\\right) \\operatorname{cos}\\left(\\phi_{m}\\right)\\right) \\omega_{m3} + \\left(- \\operatorname{sin}\\left(\\phi_{m}\\right) \\operatorname{sin}\\left(\\psi_{m}\\right) \\operatorname{sin}\\left(\\theta_{m}\\right) + \\operatorname{cos}\\left(\\phi_{m}\\right) \\operatorname{cos}\\left(\\psi_{m}\\right)\\right) \\omega_{m2} - \\omega_{m1} \\operatorname{sin}\\left(\\psi_{m}\\right) \\operatorname{cos}\\left(\\theta_{m}\\right)\\right)\\right) \\operatorname{sin}\\left(\\phi_{m}\\right) \\operatorname{cos}\\left(\\theta_{m}\\right) - \\left(I_{Mx} \\left(\\left(\\operatorname{sin}\\left(\\phi_{m}\\right) \\operatorname{sin}\\left(\\psi_{m}\\right) - \\operatorname{sin}\\left(\\theta_{m}\\right) \\operatorname{cos}\\left(\\phi_{m}\\right) \\operatorname{cos}\\left(\\psi_{m}\\right)\\right) \\omega_{m3} + \\left(\\operatorname{sin}\\left(\\phi_{m}\\right) \\operatorname{sin}\\left(\\theta_{m}\\right) \\operatorname{cos}\\left(\\psi_{m}\\right) + \\operatorname{sin}\\left(\\psi_{m}\\right) \\operatorname{cos}\\left(\\phi_{m}\\right)\\right) \\omega_{m2} + \\omega_{m1} \\operatorname{cos}\\left(\\psi_{m}\\right) \\operatorname{cos}\\left(\\theta_{m}\\right)\\right) \\left(\\omega_{m1} \\operatorname{sin}\\left(\\theta_{m}\\right) - \\omega_{m2} \\operatorname{sin}\\left(\\phi_{m}\\right) \\operatorname{cos}\\left(\\theta_{m}\\right) + \\omega_{m3} \\operatorname{cos}\\left(\\phi_{m}\\right) \\operatorname{cos}\\left(\\theta_{m}\\right)\\right) - I_{Mz} \\left(\\left(\\operatorname{sin}\\left(\\phi_{m}\\right) \\operatorname{sin}\\left(\\psi_{m}\\right) - \\operatorname{sin}\\left(\\theta_{m}\\right) \\operatorname{cos}\\left(\\phi_{m}\\right) \\operatorname{cos}\\left(\\psi_{m}\\right)\\right) \\omega_{m3} + \\left(\\operatorname{sin}\\left(\\phi_{m}\\right) \\operatorname{sin}\\left(\\theta_{m}\\right) \\operatorname{cos}\\left(\\psi_{m}\\right) + \\operatorname{sin}\\left(\\psi_{m}\\right) \\operatorname{cos}\\left(\\phi_{m}\\right)\\right) \\omega_{m2} + \\omega_{m1} \\operatorname{cos}\\left(\\psi_{m}\\right) \\operatorname{cos}\\left(\\theta_{m}\\right)\\right) \\left(\\omega_{m1} \\operatorname{sin}\\left(\\theta_{m}\\right) - \\omega_{m2} \\operatorname{sin}\\left(\\phi_{m}\\right) \\operatorname{cos}\\left(\\theta_{m}\\right) + \\omega_{m3} \\operatorname{cos}\\left(\\phi_{m}\\right) \\operatorname{cos}\\left(\\theta_{m}\\right)\\right)\\right) \\left(- \\operatorname{sin}\\left(\\phi_{m}\\right) \\operatorname{sin}\\left(\\psi_{m}\\right) \\operatorname{sin}\\left(\\theta_{m}\\right) + \\operatorname{cos}\\left(\\phi_{m}\\right) \\operatorname{cos}\\left(\\psi_{m}\\right)\\right) - \\left(- I_{My} \\left(\\left(\\operatorname{sin}\\left(\\phi_{m}\\right) \\operatorname{cos}\\left(\\psi_{m}\\right) + \\operatorname{sin}\\left(\\psi_{m}\\right) \\operatorname{sin}\\left(\\theta_{m}\\right) \\operatorname{cos}\\left(\\phi_{m}\\right)\\right) \\omega_{m3} + \\left(- \\operatorname{sin}\\left(\\phi_{m}\\right) \\operatorname{sin}\\left(\\psi_{m}\\right) \\operatorname{sin}\\left(\\theta_{m}\\right) + \\operatorname{cos}\\left(\\phi_{m}\\right) \\operatorname{cos}\\left(\\psi_{m}\\right)\\right) \\omega_{m2} - \\omega_{m1} \\operatorname{sin}\\left(\\psi_{m}\\right) \\operatorname{cos}\\left(\\theta_{m}\\right)\\right) \\left(\\omega_{m1} \\operatorname{sin}\\left(\\theta_{m}\\right) - \\omega_{m2} \\operatorname{sin}\\left(\\phi_{m}\\right) \\operatorname{cos}\\left(\\theta_{m}\\right) + \\omega_{m3} \\operatorname{cos}\\left(\\phi_{m}\\right) \\operatorname{cos}\\left(\\theta_{m}\\right)\\right) + I_{Mz} \\left(\\left(\\operatorname{sin}\\left(\\phi_{m}\\right) \\operatorname{cos}\\left(\\psi_{m}\\right) + \\operatorname{sin}\\left(\\psi_{m}\\right) \\operatorname{sin}\\left(\\theta_{m}\\right) \\operatorname{cos}\\left(\\phi_{m}\\right)\\right) \\omega_{m3} + \\left(- \\operatorname{sin}\\left(\\phi_{m}\\right) \\operatorname{sin}\\left(\\psi_{m}\\right) \\operatorname{sin}\\left(\\theta_{m}\\right) + \\operatorname{cos}\\left(\\phi_{m}\\right) \\operatorname{cos}\\left(\\psi_{m}\\right)\\right) \\omega_{m2} - \\omega_{m1} \\operatorname{sin}\\left(\\psi_{m}\\right) \\operatorname{cos}\\left(\\theta_{m}\\right)\\right) \\left(\\omega_{m1} \\operatorname{sin}\\left(\\theta_{m}\\right) - \\omega_{m2} \\operatorname{sin}\\left(\\phi_{m}\\right) \\operatorname{cos}\\left(\\theta_{m}\\right) + \\omega_{m3} \\operatorname{cos}\\left(\\phi_{m}\\right) \\operatorname{cos}\\left(\\theta_{m}\\right)\\right)\\right) \\left(\\operatorname{sin}\\left(\\phi_{m}\\right) \\operatorname{sin}\\left(\\theta_{m}\\right) \\operatorname{cos}\\left(\\psi_{m}\\right) + \\operatorname{sin}\\left(\\psi_{m}\\right) \\operatorname{cos}\\left(\\phi_{m}\\right)\\right) + \\left(- \\operatorname{sin}\\left(\\phi_{m}\\right) \\operatorname{sin}\\left(\\psi_{m}\\right) \\operatorname{sin}\\left(\\theta_{m}\\right) + \\operatorname{cos}\\left(\\phi_{m}\\right) \\operatorname{cos}\\left(\\psi_{m}\\right)\\right) T_{m} + \\left(\\operatorname{sin}\\left(\\phi_{m}\\right) \\operatorname{sin}\\left(\\theta_{m}\\right) \\operatorname{cos}\\left(\\psi_{m}\\right) + \\operatorname{sin}\\left(\\psi_{m}\\right) \\operatorname{cos}\\left(\\phi_{m}\\right)\\right) F_{m}\\\\- \\left(\\operatorname{sin}\\left(\\phi_{m}\\right) \\operatorname{sin}\\left(\\psi_{m}\\right) - \\operatorname{sin}\\left(\\theta_{m}\\right) \\operatorname{cos}\\left(\\phi_{m}\\right) \\operatorname{cos}\\left(\\psi_{m}\\right)\\right) \\left(- I_{My} \\left(\\left(\\operatorname{sin}\\left(\\phi_{m}\\right) \\operatorname{cos}\\left(\\psi_{m}\\right) + \\operatorname{sin}\\left(\\psi_{m}\\right) \\operatorname{sin}\\left(\\theta_{m}\\right) \\operatorname{cos}\\left(\\phi_{m}\\right)\\right) \\omega_{m3} + \\left(- \\operatorname{sin}\\left(\\phi_{m}\\right) \\operatorname{sin}\\left(\\psi_{m}\\right) \\operatorname{sin}\\left(\\theta_{m}\\right) + \\operatorname{cos}\\left(\\phi_{m}\\right) \\operatorname{cos}\\left(\\psi_{m}\\right)\\right) \\omega_{m2} - \\omega_{m1} \\operatorname{sin}\\left(\\psi_{m}\\right) \\operatorname{cos}\\left(\\theta_{m}\\right)\\right) \\left(\\omega_{m1} \\operatorname{sin}\\left(\\theta_{m}\\right) - \\omega_{m2} \\operatorname{sin}\\left(\\phi_{m}\\right) \\operatorname{cos}\\left(\\theta_{m}\\right) + \\omega_{m3} \\operatorname{cos}\\left(\\phi_{m}\\right) \\operatorname{cos}\\left(\\theta_{m}\\right)\\right) + I_{Mz} \\left(\\left(\\operatorname{sin}\\left(\\phi_{m}\\right) \\operatorname{cos}\\left(\\psi_{m}\\right) + \\operatorname{sin}\\left(\\psi_{m}\\right) \\operatorname{sin}\\left(\\theta_{m}\\right) \\operatorname{cos}\\left(\\phi_{m}\\right)\\right) \\omega_{m3} + \\left(- \\operatorname{sin}\\left(\\phi_{m}\\right) \\operatorname{sin}\\left(\\psi_{m}\\right) \\operatorname{sin}\\left(\\theta_{m}\\right) + \\operatorname{cos}\\left(\\phi_{m}\\right) \\operatorname{cos}\\left(\\psi_{m}\\right)\\right) \\omega_{m2} - \\omega_{m1} \\operatorname{sin}\\left(\\psi_{m}\\right) \\operatorname{cos}\\left(\\theta_{m}\\right)\\right) \\left(\\omega_{m1} \\operatorname{sin}\\left(\\theta_{m}\\right) - \\omega_{m2} \\operatorname{sin}\\left(\\phi_{m}\\right) \\operatorname{cos}\\left(\\theta_{m}\\right) + \\omega_{m3} \\operatorname{cos}\\left(\\phi_{m}\\right) \\operatorname{cos}\\left(\\theta_{m}\\right)\\right)\\right) + \\left(\\operatorname{sin}\\left(\\phi_{m}\\right) \\operatorname{sin}\\left(\\psi_{m}\\right) - \\operatorname{sin}\\left(\\theta_{m}\\right) \\operatorname{cos}\\left(\\phi_{m}\\right) \\operatorname{cos}\\left(\\psi_{m}\\right)\\right) F_{m} - \\left(\\operatorname{sin}\\left(\\phi_{m}\\right) \\operatorname{cos}\\left(\\psi_{m}\\right) + \\operatorname{sin}\\left(\\psi_{m}\\right) \\operatorname{sin}\\left(\\theta_{m}\\right) \\operatorname{cos}\\left(\\phi_{m}\\right)\\right) \\left(I_{Mx} \\left(\\left(\\operatorname{sin}\\left(\\phi_{m}\\right) \\operatorname{sin}\\left(\\psi_{m}\\right) - \\operatorname{sin}\\left(\\theta_{m}\\right) \\operatorname{cos}\\left(\\phi_{m}\\right) \\operatorname{cos}\\left(\\psi_{m}\\right)\\right) \\omega_{m3} + \\left(\\operatorname{sin}\\left(\\phi_{m}\\right) \\operatorname{sin}\\left(\\theta_{m}\\right) \\operatorname{cos}\\left(\\psi_{m}\\right) + \\operatorname{sin}\\left(\\psi_{m}\\right) \\operatorname{cos}\\left(\\phi_{m}\\right)\\right) \\omega_{m2} + \\omega_{m1} \\operatorname{cos}\\left(\\psi_{m}\\right) \\operatorname{cos}\\left(\\theta_{m}\\right)\\right) \\left(\\omega_{m1} \\operatorname{sin}\\left(\\theta_{m}\\right) - \\omega_{m2} \\operatorname{sin}\\left(\\phi_{m}\\right) \\operatorname{cos}\\left(\\theta_{m}\\right) + \\omega_{m3} \\operatorname{cos}\\left(\\phi_{m}\\right) \\operatorname{cos}\\left(\\theta_{m}\\right)\\right) - I_{Mz} \\left(\\left(\\operatorname{sin}\\left(\\phi_{m}\\right) \\operatorname{sin}\\left(\\psi_{m}\\right) - \\operatorname{sin}\\left(\\theta_{m}\\right) \\operatorname{cos}\\left(\\phi_{m}\\right) \\operatorname{cos}\\left(\\psi_{m}\\right)\\right) \\omega_{m3} + \\left(\\operatorname{sin}\\left(\\phi_{m}\\right) \\operatorname{sin}\\left(\\theta_{m}\\right) \\operatorname{cos}\\left(\\psi_{m}\\right) + \\operatorname{sin}\\left(\\psi_{m}\\right) \\operatorname{cos}\\left(\\phi_{m}\\right)\\right) \\omega_{m2} + \\omega_{m1} \\operatorname{cos}\\left(\\psi_{m}\\right) \\operatorname{cos}\\left(\\theta_{m}\\right)\\right) \\left(\\omega_{m1} \\operatorname{sin}\\left(\\theta_{m}\\right) - \\omega_{m2} \\operatorname{sin}\\left(\\phi_{m}\\right) \\operatorname{cos}\\left(\\theta_{m}\\right) + \\omega_{m3} \\operatorname{cos}\\left(\\phi_{m}\\right) \\operatorname{cos}\\left(\\theta_{m}\\right)\\right)\\right) + \\left(\\operatorname{sin}\\left(\\phi_{m}\\right) \\operatorname{cos}\\left(\\psi_{m}\\right) + \\operatorname{sin}\\left(\\psi_{m}\\right) \\operatorname{sin}\\left(\\theta_{m}\\right) \\operatorname{cos}\\left(\\phi_{m}\\right)\\right) T_{m} - \\left(- I_{Mx} \\left(\\left(\\operatorname{sin}\\left(\\phi_{m}\\right) \\operatorname{sin}\\left(\\psi_{m}\\right) - \\operatorname{sin}\\left(\\theta_{m}\\right) \\operatorname{cos}\\left(\\phi_{m}\\right) \\operatorname{cos}\\left(\\psi_{m}\\right)\\right) \\omega_{m3} + \\left(\\operatorname{sin}\\left(\\phi_{m}\\right) \\operatorname{sin}\\left(\\theta_{m}\\right) \\operatorname{cos}\\left(\\psi_{m}\\right) + \\operatorname{sin}\\left(\\psi_{m}\\right) \\operatorname{cos}\\left(\\phi_{m}\\right)\\right) \\omega_{m2} + \\omega_{m1} \\operatorname{cos}\\left(\\psi_{m}\\right) \\operatorname{cos}\\left(\\theta_{m}\\right)\\right) \\left(\\left(\\operatorname{sin}\\left(\\phi_{m}\\right) \\operatorname{cos}\\left(\\psi_{m}\\right) + \\operatorname{sin}\\left(\\psi_{m}\\right) \\operatorname{sin}\\left(\\theta_{m}\\right) \\operatorname{cos}\\left(\\phi_{m}\\right)\\right) \\omega_{m3} + \\left(- \\operatorname{sin}\\left(\\phi_{m}\\right) \\operatorname{sin}\\left(\\psi_{m}\\right) \\operatorname{sin}\\left(\\theta_{m}\\right) + \\operatorname{cos}\\left(\\phi_{m}\\right) \\operatorname{cos}\\left(\\psi_{m}\\right)\\right) \\omega_{m2} - \\omega_{m1} \\operatorname{sin}\\left(\\psi_{m}\\right) \\operatorname{cos}\\left(\\theta_{m}\\right)\\right) + I_{My} \\left(\\left(\\operatorname{sin}\\left(\\phi_{m}\\right) \\operatorname{sin}\\left(\\psi_{m}\\right) - \\operatorname{sin}\\left(\\theta_{m}\\right) \\operatorname{cos}\\left(\\phi_{m}\\right) \\operatorname{cos}\\left(\\psi_{m}\\right)\\right) \\omega_{m3} + \\left(\\operatorname{sin}\\left(\\phi_{m}\\right) \\operatorname{sin}\\left(\\theta_{m}\\right) \\operatorname{cos}\\left(\\psi_{m}\\right) + \\operatorname{sin}\\left(\\psi_{m}\\right) \\operatorname{cos}\\left(\\phi_{m}\\right)\\right) \\omega_{m2} + \\omega_{m1} \\operatorname{cos}\\left(\\psi_{m}\\right) \\operatorname{cos}\\left(\\theta_{m}\\right)\\right) \\left(\\left(\\operatorname{sin}\\left(\\phi_{m}\\right) \\operatorname{cos}\\left(\\psi_{m}\\right) + \\operatorname{sin}\\left(\\psi_{m}\\right) \\operatorname{sin}\\left(\\theta_{m}\\right) \\operatorname{cos}\\left(\\phi_{m}\\right)\\right) \\omega_{m3} + \\left(- \\operatorname{sin}\\left(\\phi_{m}\\right) \\operatorname{sin}\\left(\\psi_{m}\\right) \\operatorname{sin}\\left(\\theta_{m}\\right) + \\operatorname{cos}\\left(\\phi_{m}\\right) \\operatorname{cos}\\left(\\psi_{m}\\right)\\right) \\omega_{m2} - \\omega_{m1} \\operatorname{sin}\\left(\\psi_{m}\\right) \\operatorname{cos}\\left(\\theta_{m}\\right)\\right)\\right) \\operatorname{cos}\\left(\\phi_{m}\\right) \\operatorname{cos}\\left(\\theta_{m}\\right)\\end{matrix}\\right]$$"
      ],
      "text/plain": [
       "Matrix([\n",
       "[                                                                                                                                                                                                                                                                                                                                                                                                                                                                                                                                                                                                                                                                                                                                                                                                                                                                                                                                                                                                                                                                                                                                                                                                                                                                                                                                                                                                                                                                                                                                                                                                                                                                                                                                                                                                                                                                                                                                                                                                                                                                                                                                                                                                                            0],\n",
       "[                                                                                                                                                                                                                                                                                                                                                                                                                                                                                                                                                                                                                                                                                                                                                                                                                                                                                                                                                                                                                                                                                                                                                                                                                                                                                                                                                                                                                                                                                                                                                                                                                                                                                                                                                                                                                                                                                                                                                                                                                                                                                                                                                                                                                            0],\n",
       "[                                                                                                                                                                                                                                                                                                                                                                                                                                                                                                                                                                                                                                                                                                                                                                                                                                                                                                                                                                                                                                                                                                                                                                                                                                                                                                                                                                                                                                                                                                                                                                                                                                                                                                                                                                                                                                                                                                                                                                                                                                                                                                                                                                                                                       -g*m_m],\n",
       "[                                                                                                                                                                -(-I_Mx*((sin(phi_m)*sin(psi_m) - sin(theta_m)*cos(phi_m)*cos(psi_m))*omega_m3 + (sin(phi_m)*sin(theta_m)*cos(psi_m) + sin(psi_m)*cos(phi_m))*omega_m2 + omega_m1*cos(psi_m)*cos(theta_m))*((sin(phi_m)*cos(psi_m) + sin(psi_m)*sin(theta_m)*cos(phi_m))*omega_m3 + (-sin(phi_m)*sin(psi_m)*sin(theta_m) + cos(phi_m)*cos(psi_m))*omega_m2 - omega_m1*sin(psi_m)*cos(theta_m)) + I_My*((sin(phi_m)*sin(psi_m) - sin(theta_m)*cos(phi_m)*cos(psi_m))*omega_m3 + (sin(phi_m)*sin(theta_m)*cos(psi_m) + sin(psi_m)*cos(phi_m))*omega_m2 + omega_m1*cos(psi_m)*cos(theta_m))*((sin(phi_m)*cos(psi_m) + sin(psi_m)*sin(theta_m)*cos(phi_m))*omega_m3 + (-sin(phi_m)*sin(psi_m)*sin(theta_m) + cos(phi_m)*cos(psi_m))*omega_m2 - omega_m1*sin(psi_m)*cos(theta_m)))*sin(theta_m) + (I_Mx*((sin(phi_m)*sin(psi_m) - sin(theta_m)*cos(phi_m)*cos(psi_m))*omega_m3 + (sin(phi_m)*sin(theta_m)*cos(psi_m) + sin(psi_m)*cos(phi_m))*omega_m2 + omega_m1*cos(psi_m)*cos(theta_m))*(omega_m1*sin(theta_m) - omega_m2*sin(phi_m)*cos(theta_m) + omega_m3*cos(phi_m)*cos(theta_m)) - I_Mz*((sin(phi_m)*sin(psi_m) - sin(theta_m)*cos(phi_m)*cos(psi_m))*omega_m3 + (sin(phi_m)*sin(theta_m)*cos(psi_m) + sin(psi_m)*cos(phi_m))*omega_m2 + omega_m1*cos(psi_m)*cos(theta_m))*(omega_m1*sin(theta_m) - omega_m2*sin(phi_m)*cos(theta_m) + omega_m3*cos(phi_m)*cos(theta_m)))*sin(psi_m)*cos(theta_m) - (-I_My*((sin(phi_m)*cos(psi_m) + sin(psi_m)*sin(theta_m)*cos(phi_m))*omega_m3 + (-sin(phi_m)*sin(psi_m)*sin(theta_m) + cos(phi_m)*cos(psi_m))*omega_m2 - omega_m1*sin(psi_m)*cos(theta_m))*(omega_m1*sin(theta_m) - omega_m2*sin(phi_m)*cos(theta_m) + omega_m3*cos(phi_m)*cos(theta_m)) + I_Mz*((sin(phi_m)*cos(psi_m) + sin(psi_m)*sin(theta_m)*cos(phi_m))*omega_m3 + (-sin(phi_m)*sin(psi_m)*sin(theta_m) + cos(phi_m)*cos(psi_m))*omega_m2 - omega_m1*sin(psi_m)*cos(theta_m))*(omega_m1*sin(theta_m) - omega_m2*sin(phi_m)*cos(theta_m) + omega_m3*cos(phi_m)*cos(theta_m)))*cos(psi_m)*cos(theta_m) + F_m*cos(psi_m)*cos(theta_m) - T_m*sin(psi_m)*cos(theta_m)],\n",
       "[(-I_Mx*((sin(phi_m)*sin(psi_m) - sin(theta_m)*cos(phi_m)*cos(psi_m))*omega_m3 + (sin(phi_m)*sin(theta_m)*cos(psi_m) + sin(psi_m)*cos(phi_m))*omega_m2 + omega_m1*cos(psi_m)*cos(theta_m))*((sin(phi_m)*cos(psi_m) + sin(psi_m)*sin(theta_m)*cos(phi_m))*omega_m3 + (-sin(phi_m)*sin(psi_m)*sin(theta_m) + cos(phi_m)*cos(psi_m))*omega_m2 - omega_m1*sin(psi_m)*cos(theta_m)) + I_My*((sin(phi_m)*sin(psi_m) - sin(theta_m)*cos(phi_m)*cos(psi_m))*omega_m3 + (sin(phi_m)*sin(theta_m)*cos(psi_m) + sin(psi_m)*cos(phi_m))*omega_m2 + omega_m1*cos(psi_m)*cos(theta_m))*((sin(phi_m)*cos(psi_m) + sin(psi_m)*sin(theta_m)*cos(phi_m))*omega_m3 + (-sin(phi_m)*sin(psi_m)*sin(theta_m) + cos(phi_m)*cos(psi_m))*omega_m2 - omega_m1*sin(psi_m)*cos(theta_m)))*sin(phi_m)*cos(theta_m) - (I_Mx*((sin(phi_m)*sin(psi_m) - sin(theta_m)*cos(phi_m)*cos(psi_m))*omega_m3 + (sin(phi_m)*sin(theta_m)*cos(psi_m) + sin(psi_m)*cos(phi_m))*omega_m2 + omega_m1*cos(psi_m)*cos(theta_m))*(omega_m1*sin(theta_m) - omega_m2*sin(phi_m)*cos(theta_m) + omega_m3*cos(phi_m)*cos(theta_m)) - I_Mz*((sin(phi_m)*sin(psi_m) - sin(theta_m)*cos(phi_m)*cos(psi_m))*omega_m3 + (sin(phi_m)*sin(theta_m)*cos(psi_m) + sin(psi_m)*cos(phi_m))*omega_m2 + omega_m1*cos(psi_m)*cos(theta_m))*(omega_m1*sin(theta_m) - omega_m2*sin(phi_m)*cos(theta_m) + omega_m3*cos(phi_m)*cos(theta_m)))*(-sin(phi_m)*sin(psi_m)*sin(theta_m) + cos(phi_m)*cos(psi_m)) - (-I_My*((sin(phi_m)*cos(psi_m) + sin(psi_m)*sin(theta_m)*cos(phi_m))*omega_m3 + (-sin(phi_m)*sin(psi_m)*sin(theta_m) + cos(phi_m)*cos(psi_m))*omega_m2 - omega_m1*sin(psi_m)*cos(theta_m))*(omega_m1*sin(theta_m) - omega_m2*sin(phi_m)*cos(theta_m) + omega_m3*cos(phi_m)*cos(theta_m)) + I_Mz*((sin(phi_m)*cos(psi_m) + sin(psi_m)*sin(theta_m)*cos(phi_m))*omega_m3 + (-sin(phi_m)*sin(psi_m)*sin(theta_m) + cos(phi_m)*cos(psi_m))*omega_m2 - omega_m1*sin(psi_m)*cos(theta_m))*(omega_m1*sin(theta_m) - omega_m2*sin(phi_m)*cos(theta_m) + omega_m3*cos(phi_m)*cos(theta_m)))*(sin(phi_m)*sin(theta_m)*cos(psi_m) + sin(psi_m)*cos(phi_m)) + (-sin(phi_m)*sin(psi_m)*sin(theta_m) + cos(phi_m)*cos(psi_m))*T_m + (sin(phi_m)*sin(theta_m)*cos(psi_m) + sin(psi_m)*cos(phi_m))*F_m],\n",
       "[ -(sin(phi_m)*sin(psi_m) - sin(theta_m)*cos(phi_m)*cos(psi_m))*(-I_My*((sin(phi_m)*cos(psi_m) + sin(psi_m)*sin(theta_m)*cos(phi_m))*omega_m3 + (-sin(phi_m)*sin(psi_m)*sin(theta_m) + cos(phi_m)*cos(psi_m))*omega_m2 - omega_m1*sin(psi_m)*cos(theta_m))*(omega_m1*sin(theta_m) - omega_m2*sin(phi_m)*cos(theta_m) + omega_m3*cos(phi_m)*cos(theta_m)) + I_Mz*((sin(phi_m)*cos(psi_m) + sin(psi_m)*sin(theta_m)*cos(phi_m))*omega_m3 + (-sin(phi_m)*sin(psi_m)*sin(theta_m) + cos(phi_m)*cos(psi_m))*omega_m2 - omega_m1*sin(psi_m)*cos(theta_m))*(omega_m1*sin(theta_m) - omega_m2*sin(phi_m)*cos(theta_m) + omega_m3*cos(phi_m)*cos(theta_m))) + (sin(phi_m)*sin(psi_m) - sin(theta_m)*cos(phi_m)*cos(psi_m))*F_m - (sin(phi_m)*cos(psi_m) + sin(psi_m)*sin(theta_m)*cos(phi_m))*(I_Mx*((sin(phi_m)*sin(psi_m) - sin(theta_m)*cos(phi_m)*cos(psi_m))*omega_m3 + (sin(phi_m)*sin(theta_m)*cos(psi_m) + sin(psi_m)*cos(phi_m))*omega_m2 + omega_m1*cos(psi_m)*cos(theta_m))*(omega_m1*sin(theta_m) - omega_m2*sin(phi_m)*cos(theta_m) + omega_m3*cos(phi_m)*cos(theta_m)) - I_Mz*((sin(phi_m)*sin(psi_m) - sin(theta_m)*cos(phi_m)*cos(psi_m))*omega_m3 + (sin(phi_m)*sin(theta_m)*cos(psi_m) + sin(psi_m)*cos(phi_m))*omega_m2 + omega_m1*cos(psi_m)*cos(theta_m))*(omega_m1*sin(theta_m) - omega_m2*sin(phi_m)*cos(theta_m) + omega_m3*cos(phi_m)*cos(theta_m))) + (sin(phi_m)*cos(psi_m) + sin(psi_m)*sin(theta_m)*cos(phi_m))*T_m - (-I_Mx*((sin(phi_m)*sin(psi_m) - sin(theta_m)*cos(phi_m)*cos(psi_m))*omega_m3 + (sin(phi_m)*sin(theta_m)*cos(psi_m) + sin(psi_m)*cos(phi_m))*omega_m2 + omega_m1*cos(psi_m)*cos(theta_m))*((sin(phi_m)*cos(psi_m) + sin(psi_m)*sin(theta_m)*cos(phi_m))*omega_m3 + (-sin(phi_m)*sin(psi_m)*sin(theta_m) + cos(phi_m)*cos(psi_m))*omega_m2 - omega_m1*sin(psi_m)*cos(theta_m)) + I_My*((sin(phi_m)*sin(psi_m) - sin(theta_m)*cos(phi_m)*cos(psi_m))*omega_m3 + (sin(phi_m)*sin(theta_m)*cos(psi_m) + sin(psi_m)*cos(phi_m))*omega_m2 + omega_m1*cos(psi_m)*cos(theta_m))*((sin(phi_m)*cos(psi_m) + sin(psi_m)*sin(theta_m)*cos(phi_m))*omega_m3 + (-sin(phi_m)*sin(psi_m)*sin(theta_m) + cos(phi_m)*cos(psi_m))*omega_m2 - omega_m1*sin(psi_m)*cos(theta_m)))*cos(phi_m)*cos(theta_m)]])"
      ]
     },
     "execution_count": 37,
     "metadata": {},
     "output_type": "execute_result"
    }
   ],
   "source": [
    "forcing_vector = kane.forcing\n",
    "forcing_vector"
   ]
  },
  {
   "cell_type": "code",
   "execution_count": null,
   "metadata": {
    "collapsed": true
   },
   "outputs": [],
   "source": []
  }
 ],
 "metadata": {
  "anaconda-cloud": {},
  "kernelspec": {
   "display_name": "Python [Root]",
   "language": "python",
   "name": "Python [Root]"
  },
  "language_info": {
   "codemirror_mode": {
    "name": "ipython",
    "version": 3
   },
   "file_extension": ".py",
   "mimetype": "text/x-python",
   "name": "python",
   "nbconvert_exporter": "python",
   "pygments_lexer": "ipython3",
   "version": "3.5.2"
  }
 },
 "nbformat": 4,
 "nbformat_minor": 0
}
